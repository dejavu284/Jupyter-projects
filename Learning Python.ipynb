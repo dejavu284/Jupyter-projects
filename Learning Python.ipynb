{
 "cells": [
  {
   "cell_type": "code",
   "execution_count": 14,
   "id": "3fc4b123",
   "metadata": {},
   "outputs": [],
   "source": [
    "class Lamp:\n",
    "  manufacturer = \"Неизветcно\"\n",
    "  voltage = 0\n",
    "  type_lamp = \"Неизветсно\"\n",
    "  watts = 0\n",
    "  type_lampshade = \"\"\n",
    "  brightness = 5\n",
    "  status = False\n",
    "     \n",
    "  def info(self):\n",
    "    print(\"Лампочка имеет статус\",self.status)\n",
    "    print(\"Ее яркость\",self.brightness)"
   ]
  },
  {
   "cell_type": "code",
   "execution_count": 15,
   "id": "c415e439",
   "metadata": {},
   "outputs": [],
   "source": [
    "Lamp1 = Lamp()\n",
    "Lamp2 = Lamp()\n",
    "\n",
    "Lamp1.manufacturer = \"Kитaй\"\n",
    "Lamp1.voltage = 5\n",
    "Lamp1.type_lamp = \"Светодиодная\"\n",
    "Lamp1.watts = 10\n",
    "Lamp1.type_lampshade = \"e14\"\n",
    "\n",
    "Lamp2.manufacturer = \"Pocсия\"\n",
    "Lamp2.voltage = 220\n",
    "Lamp2.type_lamp = \"Накаливаиня\"\n",
    "Lamp2.watts = 60\n",
    "Lamp2.type_lampshade = \"e27\""
   ]
  },
  {
   "cell_type": "code",
   "execution_count": 21,
   "id": "7b941468",
   "metadata": {},
   "outputs": [
    {
     "ename": "IndentationError",
     "evalue": "expected an indented block after function definition on line 2 (2859003792.py, line 5)",
     "output_type": "error",
     "traceback": [
      "\u001b[1;36m  Cell \u001b[1;32mIn[21], line 5\u001b[1;36m\u001b[0m\n\u001b[1;33m    def __init__(self, manufacturer, voltage, type_lamp, watts, type_lampshade):\u001b[0m\n\u001b[1;37m    ^\u001b[0m\n\u001b[1;31mIndentationError\u001b[0m\u001b[1;31m:\u001b[0m expected an indented block after function definition on line 2\n"
     ]
    }
   ],
   "source": [
    "class Lamp:\n",
    "    def __init__():\n",
    "        \n",
    "        \n",
    "    def __init__(self, manufacturer, voltage, type_lamp, watts, type_lampshade):\n",
    "        self.manufacturer=manufacturer\n",
    "        self.voltage=voltage\n",
    "        self.type_lamp=type_lamp\n",
    "        self.watts=watts\n",
    "        self.type_lampshade=type_lampshade\n",
    "    status=False\n",
    "    brightness=5\n",
    "    \n"
   ]
  },
  {
   "cell_type": "code",
   "execution_count": 18,
   "id": "20617114",
   "metadata": {},
   "outputs": [
    {
     "ename": "TypeError",
     "evalue": "Lamp.__init__() missing 5 required positional arguments: 'manufacturer', 'voltage', 'type_lamp', 'watts', and 'type_lampshade'",
     "output_type": "error",
     "traceback": [
      "\u001b[1;31m---------------------------------------------------------------------------\u001b[0m",
      "\u001b[1;31mTypeError\u001b[0m                                 Traceback (most recent call last)",
      "Cell \u001b[1;32mIn[18], line 1\u001b[0m\n\u001b[1;32m----> 1\u001b[0m Lamp1\u001b[38;5;241m=\u001b[39m\u001b[43mLamp\u001b[49m\u001b[43m(\u001b[49m\u001b[43m)\u001b[49m\n",
      "\u001b[1;31mTypeError\u001b[0m: Lamp.__init__() missing 5 required positional arguments: 'manufacturer', 'voltage', 'type_lamp', 'watts', and 'type_lampshade'"
     ]
    }
   ],
   "source": [
    "Lamp1=Lamp()"
   ]
  },
  {
   "cell_type": "code",
   "execution_count": 46,
   "id": "58268784",
   "metadata": {},
   "outputs": [],
   "source": [
    "class Simple_Class:\n",
    "    def __add__(self,n):\n",
    "        print(f\"не выйдет \")"
   ]
  },
  {
   "cell_type": "code",
   "execution_count": 47,
   "id": "220145fd",
   "metadata": {},
   "outputs": [
    {
     "name": "stdout",
     "output_type": "stream",
     "text": [
      "не выйдет \n"
     ]
    }
   ],
   "source": [
    "classs=Simple_Class()\n",
    "b =classs + 3"
   ]
  },
  {
   "cell_type": "code",
   "execution_count": 36,
   "id": "f371652a",
   "metadata": {},
   "outputs": [
    {
     "name": "stdout",
     "output_type": "stream",
     "text": [
      "Думали ко мне прибавить 5 ?\n",
      "А вот и нет\n"
     ]
    }
   ],
   "source": [
    "class Simple_Class():\n",
    "    def __add__(self,n):\n",
    "        print(\"Думали ко мне прибавить\",n,\"?\")\n",
    "        print(\"А вот и нет\")"
   ]
  },
  {
   "cell_type": "code",
   "execution_count": 40,
   "id": "fda9fe0d",
   "metadata": {},
   "outputs": [
    {
     "name": "stdout",
     "output_type": "stream",
     "text": [
      "не выйдет5\n"
     ]
    }
   ],
   "source": [
    "new_class = Simple_Class()\n",
    "b = new_class + 5 "
   ]
  },
  {
   "cell_type": "code",
   "execution_count": null,
   "id": "6fabc00b",
   "metadata": {},
   "outputs": [],
   "source": []
  }
 ],
 "metadata": {
  "kernelspec": {
   "display_name": "Python 3 (ipykernel)",
   "language": "python",
   "name": "python3"
  },
  "language_info": {
   "codemirror_mode": {
    "name": "ipython",
    "version": 3
   },
   "file_extension": ".py",
   "mimetype": "text/x-python",
   "name": "python",
   "nbconvert_exporter": "python",
   "pygments_lexer": "ipython3",
   "version": "3.10.8"
  },
  "toc": {
   "base_numbering": 1,
   "nav_menu": {},
   "number_sections": true,
   "sideBar": true,
   "skip_h1_title": false,
   "title_cell": "Table of Contents",
   "title_sidebar": "Contents",
   "toc_cell": false,
   "toc_position": {},
   "toc_section_display": true,
   "toc_window_display": false
  }
 },
 "nbformat": 4,
 "nbformat_minor": 5
}
