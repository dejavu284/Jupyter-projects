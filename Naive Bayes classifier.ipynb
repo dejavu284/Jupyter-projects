{
 "cells": [
  {
   "cell_type": "code",
   "execution_count": 1,
   "id": "ee6098b1",
   "metadata": {},
   "outputs": [],
   "source": [
    "import numpy as np\n",
    "import matplotlib.pyplot as plt"
   ]
  },
  {
   "cell_type": "code",
   "execution_count": 4,
   "id": "90bfe20f",
   "metadata": {},
   "outputs": [
    {
     "name": "stdout",
     "output_type": "stream",
     "text": [
      "МО:  31.0 35.0 14.4 52.0\n",
      "Дисперсии: 64.0 40.0 27.439999999999998 146.0\n",
      "Номер класса (0 - гусеница, 1 - божья коровка):  0\n"
     ]
    }
   ],
   "source": [
    "# Пример реализации наивного гауссовского байесовского классификатора\n",
    "\n",
    "x_train = np.array([[10, 50], [20, 30], [25, 30], [20, 60], [15, 70], [40, 40], [30, 45], [20, 45], [40, 30], [7, 35]])\n",
    "y_train = np.array([-1, 1, 1, -1, -1, 1, 1, -1, 1, -1])\n",
    "\n",
    "mw1, ml1 = np.mean(x_train[y_train == 1], axis=0)\n",
    "mw_1, ml_1 = np.mean(x_train[y_train == -1], axis=0)\n",
    "\n",
    "# формула для вычисления дисперсии здесь немного другая 1/N*sum(...)\n",
    "sw1, sl1 = np.var(x_train[y_train == 1], axis=0)\n",
    "sw_1, sl_1 = np.var(x_train[y_train == -1], axis=0)\n",
    "\n",
    "print('МО: ', mw1, ml1, mw_1, ml_1)\n",
    "print('Дисперсии:', sw1, sl1, sw_1, sl_1)\n",
    "\n",
    "x = [40, 10]  # длинв, ширина жука\n",
    "a_1 = lambda x: -(x[0] - ml_1) ** 2 / (2 * sl_1) - (x[1] - mw_1) ** 2 / (2 * sw_1)\n",
    "a1 = lambda x: -(x[0] - ml1) ** 2 / (2 * sl1) - (x[1] - mw1) ** 2 / (2 * sw1)\n",
    "y = np.argmax([a_1(x), a1(x)])\n",
    "\n",
    "print('Номер класса (0 - гусеница, 1 - божья коровка): ', y)"
   ]
  },
  {
   "cell_type": "code",
   "execution_count": null,
   "id": "1e6f71b0",
   "metadata": {},
   "outputs": [],
   "source": []
  }
 ],
 "metadata": {
  "kernelspec": {
   "display_name": "Python 3 (ipykernel)",
   "language": "python",
   "name": "python3"
  },
  "language_info": {
   "codemirror_mode": {
    "name": "ipython",
    "version": 3
   },
   "file_extension": ".py",
   "mimetype": "text/x-python",
   "name": "python",
   "nbconvert_exporter": "python",
   "pygments_lexer": "ipython3",
   "version": "3.10.8"
  }
 },
 "nbformat": 4,
 "nbformat_minor": 5
}
