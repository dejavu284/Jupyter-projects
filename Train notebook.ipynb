{
 "cells": [
  {
   "cell_type": "code",
   "execution_count": 1,
   "id": "cb5f719b",
   "metadata": {},
   "outputs": [],
   "source": [
    "### Загружаем библиотеки и данные\n",
    "import numpy as np\n",
    "import pandas as pd\n",
    "from sklearn.datasets import load_iris\n",
    "from scipy.stats import norm"
   ]
  },
  {
   "cell_type": "code",
   "execution_count": 3,
   "id": "69261f1a",
   "metadata": {},
   "outputs": [],
   "source": [
    "data = load_iris()\n",
    "X, y, column_names = data['data'], data['target'], data['feature_names']\n",
    "X = pd.DataFrame(X, columns = column_names)"
   ]
  },
  {
   "cell_type": "code",
   "execution_count": 4,
   "id": "8a63fbe3",
   "metadata": {},
   "outputs": [],
   "source": [
    "### Разбиваем данные\n",
    "from sklearn.model_selection import train_test_split\n",
    "X_train, X_val, y_train, y_val = train_test_split(X, y, random_state=44)\n",
    " "
   ]
  },
  {
   "cell_type": "code",
   "execution_count": 5,
   "id": "fcb40bdd",
   "metadata": {},
   "outputs": [
    {
     "name": "stderr",
     "output_type": "stream",
     "text": [
      "C:\\Games\\miniconda3\\lib\\site-packages\\numpy\\core\\fromnumeric.py:3462: FutureWarning: In a future version, DataFrame.mean(axis=None) will return a scalar mean over the entire DataFrame. To retain the old behavior, use 'frame.mean(axis=0)' or just 'frame.mean()'\n",
      "  return mean(axis=axis, dtype=dtype, out=out, **kwargs)\n"
     ]
    }
   ],
   "source": [
    "means = X_train.groupby(y_train).apply(np.mean)\n",
    "stds = X_train.groupby(y_train).apply(np.std)"
   ]
  },
  {
   "cell_type": "code",
   "execution_count": 6,
   "id": "addbf026",
   "metadata": {},
   "outputs": [],
   "source": [
    "### Вычисляем априорную вероятность класса\n",
    "probs = X_train.groupby(y_train).apply(lambda x: len(x)) / X_train.shape[0]\n",
    " "
   ]
  },
  {
   "cell_type": "code",
   "execution_count": 7,
   "id": "61ca2258",
   "metadata": {},
   "outputs": [],
   "source": [
    "### Вычисляем вероятность для Теоремы Байеса для каждого элемента\n",
    "y_pred = []\n",
    "# каждый элемент в валидационной части данных\n",
    "for elem in range(X_val.shape[0]):\n",
    "   p = {}\n",
    " \n",
    "   # для каждого возможного класса\n",
    "   for cl in np.unique(y_train):\n",
    " \n",
    "       # априорная вероятность взятого ранее класса\n",
    "       p[cl] = probs.iloc[cl]\n",
    " \n",
    "       # для каждого столбца в датасете\n",
    "       for index, param in enumerate(X_val.iloc[elem]):\n",
    " \n",
    "           # умножаем вероятность того, что данное значение столбца\n",
    "           # будет принадлежать распределению для выбранного класса\n",
    "           p[cl] *= norm.pdf(param, means.iloc[cl, index], stds.iloc[cl, index])\n",
    "  \n",
    "   y_pred.append(pd.Series(p).values.argmax())\n",
    " "
   ]
  },
  {
   "cell_type": "code",
   "execution_count": 14,
   "id": "bcad0e3c",
   "metadata": {},
   "outputs": [],
   "source": [
    "### Посмотрим точность нашего предсказания несколькими методами\n",
    "# ручной классификатор\n",
    "from sklearn.metrics import accuracy_score\n",
    "accuracy1 = accuracy_score(y_val, y_pred)"
   ]
  },
  {
   "cell_type": "code",
   "execution_count": 15,
   "id": "29154247",
   "metadata": {},
   "outputs": [],
   "source": [
    "# классификатор из библиотеки sklearn\n",
    "from sklearn.naive_bayes import GaussianNB\n",
    "model = GaussianNB()\n",
    "model.fit(X_train, y_train)\n",
    "accuracy2 = accuracy_score(y_val, model.predict(X_val))"
   ]
  },
  {
   "cell_type": "code",
   "execution_count": 16,
   "id": "cddcc14c",
   "metadata": {
    "scrolled": true
   },
   "outputs": [
    {
     "name": "stdout",
     "output_type": "stream",
     "text": [
      "0.9210526315789473\n",
      "0.9210526315789473\n"
     ]
    }
   ],
   "source": [
    "print(accuracy1)\n",
    "print(accuracy2)"
   ]
  }
 ],
 "metadata": {
  "kernelspec": {
   "display_name": "Python 3 (ipykernel)",
   "language": "python",
   "name": "python3"
  },
  "language_info": {
   "codemirror_mode": {
    "name": "ipython",
    "version": 3
   },
   "file_extension": ".py",
   "mimetype": "text/x-python",
   "name": "python",
   "nbconvert_exporter": "python",
   "pygments_lexer": "ipython3",
   "version": "3.10.8"
  }
 },
 "nbformat": 4,
 "nbformat_minor": 5
}
