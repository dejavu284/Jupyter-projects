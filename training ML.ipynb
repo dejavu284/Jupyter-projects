{
 "cells": [
  {
   "cell_type": "markdown",
   "id": "410cb3a8",
   "metadata": {
    "lang": "en"
   },
   "source": [
    "# Изучаем еще что-то"
   ]
  },
  {
   "cell_type": "markdown",
   "id": "8b54fe8a",
   "metadata": {},
   "source": [
    "## fadsfsasdf as"
   ]
  },
  {
   "cell_type": "code",
   "execution_count": 2,
   "id": "8d46a7d2",
   "metadata": {
    "lang": "en"
   },
   "outputs": [],
   "source": [
    "import pandas as pd"
   ]
  },
  {
   "cell_type": "code",
   "execution_count": 38,
   "id": "8b2af60f",
   "metadata": {
    "scrolled": true
   },
   "outputs": [
    {
     "name": "stdout",
     "output_type": "stream",
     "text": [
      "<class 'pandas.core.frame.DataFrame'>\n",
      "RangeIndex: 186 entries, 0 to 185\n",
      "Data columns (total 48 columns):\n",
      " #   Column                       Non-Null Count  Dtype  \n",
      "---  ------                       --------------  -----  \n",
      " 0   Age                          186 non-null    int64  \n",
      " 1   Growth                       186 non-null    int64  \n",
      " 2   Shoe size                    186 non-null    int64  \n",
      " 3   Course number                186 non-null    int64  \n",
      " 4   Year of birth                186 non-null    int64  \n",
      " 5   Friend number                186 non-null    int64  \n",
      " 6   Russian rating               186 non-null    int64  \n",
      " 7   Maths rating                 186 non-null    int64  \n",
      " 8   Physics rating               186 non-null    int64  \n",
      " 9   Computer science rating      186 non-null    int64  \n",
      " 10  Chemistry rating             186 non-null    int64  \n",
      " 11  Literature rating            186 non-null    int64  \n",
      " 12  History rating               186 non-null    int64  \n",
      " 13  Geography rating             186 non-null    int64  \n",
      " 14  Biology rating               186 non-null    int64  \n",
      " 15  Foreign language rating      186 non-null    int64  \n",
      " 16  Social science rating        186 non-null    int64  \n",
      " 17  Distance to home km          186 non-null    int64  \n",
      " 18  Minutes to first class       186 non-null    int64  \n",
      " 19  Children number              150 non-null    float64\n",
      " 20  Removed teeth                148 non-null    float64\n",
      " 21  Weight                       157 non-null    float64\n",
      " 22  Glasses                      184 non-null    object \n",
      " 23  Sex                          186 non-null    object \n",
      " 24  Problems in last semester    186 non-null    object \n",
      " 25  Coin                         186 non-null    object \n",
      " 26  Rock paper scissors          186 non-null    object \n",
      " 27  Animal                       186 non-null    object \n",
      " 28  Month of birthday            186 non-null    int64  \n",
      " 29  Your rating in university    186 non-null    object \n",
      " 30  Fastfood                     186 non-null    object \n",
      " 31  Height of 5000 mm            186 non-null    int64  \n",
      " 32  Width of 5000 mm             186 non-null    int64  \n",
      " 33  Putin age                    186 non-null    int64  \n",
      " 34  Army                         186 non-null    object \n",
      " 35  Hostel                       186 non-null    object \n",
      " 36  Hair length                  186 non-null    float64\n",
      " 37  Floor number                 186 non-null    int64  \n",
      " 38  Social network duration min  186 non-null    int64  \n",
      " 39  Chocolate                    186 non-null    object \n",
      " 40  City population              186 non-null    float64\n",
      " 41  Strange people               186 non-null    object \n",
      " 42  Your insitute                186 non-null    object \n",
      " 43  Brother-sister               186 non-null    object \n",
      " 44  Plane seat                   186 non-null    object \n",
      " 45  MIddle and index finger      186 non-null    int64  \n",
      " 46  Middle and ring finger       186 non-null    float64\n",
      " 47  Middle and little finger     186 non-null    float64\n",
      "dtypes: float64(7), int64(26), object(15)\n",
      "memory usage: 69.9+ KB\n"
     ]
    }
   ],
   "source": [
    "df=pd.read_csv(r'C:\\Users\\Я\\Desktop\\читы жизнь\\Study\\Programming\\0_Jupyter\\students.csv',delimiter=',')\n",
    "df.info()"
   ]
  },
  {
   "cell_type": "code",
   "execution_count": 39,
   "id": "b53bebbe",
   "metadata": {},
   "outputs": [
    {
     "data": {
      "text/html": [
       "<div>\n",
       "<style scoped>\n",
       "    .dataframe tbody tr th:only-of-type {\n",
       "        vertical-align: middle;\n",
       "    }\n",
       "\n",
       "    .dataframe tbody tr th {\n",
       "        vertical-align: top;\n",
       "    }\n",
       "\n",
       "    .dataframe thead th {\n",
       "        text-align: right;\n",
       "    }\n",
       "</style>\n",
       "<table border=\"1\" class=\"dataframe\">\n",
       "  <thead>\n",
       "    <tr style=\"text-align: right;\">\n",
       "      <th></th>\n",
       "      <th>Age</th>\n",
       "      <th>Plane seat</th>\n",
       "    </tr>\n",
       "  </thead>\n",
       "  <tbody>\n",
       "    <tr>\n",
       "      <th>0</th>\n",
       "      <td>20</td>\n",
       "      <td>У окна (пардон: у иллюминатора)</td>\n",
       "    </tr>\n",
       "    <tr>\n",
       "      <th>1</th>\n",
       "      <td>22</td>\n",
       "      <td>В середине</td>\n",
       "    </tr>\n",
       "    <tr>\n",
       "      <th>2</th>\n",
       "      <td>21</td>\n",
       "      <td>У окна (пардон: у иллюминатора)</td>\n",
       "    </tr>\n",
       "    <tr>\n",
       "      <th>3</th>\n",
       "      <td>19</td>\n",
       "      <td>У окна (пардон: у иллюминатора)</td>\n",
       "    </tr>\n",
       "    <tr>\n",
       "      <th>4</th>\n",
       "      <td>23</td>\n",
       "      <td>У окна (пардон: у иллюминатора)</td>\n",
       "    </tr>\n",
       "    <tr>\n",
       "      <th>...</th>\n",
       "      <td>...</td>\n",
       "      <td>...</td>\n",
       "    </tr>\n",
       "    <tr>\n",
       "      <th>181</th>\n",
       "      <td>23</td>\n",
       "      <td>У окна (пардон: у иллюминатора)</td>\n",
       "    </tr>\n",
       "    <tr>\n",
       "      <th>182</th>\n",
       "      <td>19</td>\n",
       "      <td>У окна (пардон: у иллюминатора)</td>\n",
       "    </tr>\n",
       "    <tr>\n",
       "      <th>183</th>\n",
       "      <td>18</td>\n",
       "      <td>У окна (пардон: у иллюминатора)</td>\n",
       "    </tr>\n",
       "    <tr>\n",
       "      <th>184</th>\n",
       "      <td>19</td>\n",
       "      <td>У окна (пардон: у иллюминатора)</td>\n",
       "    </tr>\n",
       "    <tr>\n",
       "      <th>185</th>\n",
       "      <td>18</td>\n",
       "      <td>У окна (пардон: у иллюминатора)</td>\n",
       "    </tr>\n",
       "  </tbody>\n",
       "</table>\n",
       "<p>186 rows × 2 columns</p>\n",
       "</div>"
      ],
      "text/plain": [
       "     Age                       Plane seat\n",
       "0     20  У окна (пардон: у иллюминатора)\n",
       "1     22                       В середине\n",
       "2     21  У окна (пардон: у иллюминатора)\n",
       "3     19  У окна (пардон: у иллюминатора)\n",
       "4     23  У окна (пардон: у иллюминатора)\n",
       "..   ...                              ...\n",
       "181   23  У окна (пардон: у иллюминатора)\n",
       "182   19  У окна (пардон: у иллюминатора)\n",
       "183   18  У окна (пардон: у иллюминатора)\n",
       "184   19  У окна (пардон: у иллюминатора)\n",
       "185   18  У окна (пардон: у иллюминатора)\n",
       "\n",
       "[186 rows x 2 columns]"
      ]
     },
     "execution_count": 39,
     "metadata": {},
     "output_type": "execute_result"
    }
   ],
   "source": [
    "df[['Age','Plane seat']]"
   ]
  },
  {
   "cell_type": "code",
   "execution_count": 40,
   "id": "19c9bddf",
   "metadata": {},
   "outputs": [
    {
     "data": {
      "text/plain": [
       "Ножницы    88\n",
       "Камень     60\n",
       "Бумага     38\n",
       "Name: Rock paper scissors, dtype: int64"
      ]
     },
     "execution_count": 40,
     "metadata": {},
     "output_type": "execute_result"
    }
   ],
   "source": [
    "df['Rock paper scissors'].value_counts()"
   ]
  },
  {
   "cell_type": "code",
   "execution_count": 41,
   "id": "257c1f5d",
   "metadata": {},
   "outputs": [
    {
     "data": {
      "text/plain": [
       "0     64.0\n",
       "1     73.0\n",
       "2     60.0\n",
       "3     59.0\n",
       "4     57.0\n",
       "5     50.0\n",
       "6     55.0\n",
       "7    120.0\n",
       "8     69.0\n",
       "9     58.0\n",
       "Name: Weight, dtype: float64"
      ]
     },
     "execution_count": 41,
     "metadata": {},
     "output_type": "execute_result"
    }
   ],
   "source": [
    "df['Weight'].head(10)"
   ]
  },
  {
   "cell_type": "markdown",
   "id": "0eda2bb7",
   "metadata": {},
   "source": [
    "я хочу чтоб у меня были 3 группы людей\n",
    "1. люди у которых меньше 10 зубов пропало\n",
    "2. люди у которых пропало от 11 до 13\n",
    "3. больше 13"
   ]
  },
  {
   "cell_type": "code",
   "execution_count": 42,
   "id": "8dd8e4a2",
   "metadata": {},
   "outputs": [],
   "source": [
    "firstLeftTeeth=df[(df['Friend number']<102)]\n",
    "secondLeftTeeth=df[(df['Friend number']>=11)&(df['Friend number']<=13)]\n",
    "thirdLeftTeeth=df[df['Friend number']>13]"
   ]
  },
  {
   "cell_type": "code",
   "execution_count": 43,
   "id": "c97d8ecc",
   "metadata": {},
   "outputs": [
    {
     "data": {
      "text/plain": [
       "0      0.0\n",
       "5      2.0\n",
       "6      NaN\n",
       "7      0.0\n",
       "8      3.0\n",
       "      ... \n",
       "177    0.0\n",
       "179    0.0\n",
       "182    0.0\n",
       "183    1.0\n",
       "184    NaN\n",
       "Name: Removed teeth, Length: 71, dtype: float64"
      ]
     },
     "execution_count": 43,
     "metadata": {},
     "output_type": "execute_result"
    }
   ],
   "source": [
    "firstLeftTeeth['Removed teeth']"
   ]
  },
  {
   "cell_type": "code",
   "execution_count": 44,
   "id": "9d2b19e7",
   "metadata": {},
   "outputs": [
    {
     "data": {
      "text/html": [
       "<div>\n",
       "<style scoped>\n",
       "    .dataframe tbody tr th:only-of-type {\n",
       "        vertical-align: middle;\n",
       "    }\n",
       "\n",
       "    .dataframe tbody tr th {\n",
       "        vertical-align: top;\n",
       "    }\n",
       "\n",
       "    .dataframe thead th {\n",
       "        text-align: right;\n",
       "    }\n",
       "</style>\n",
       "<table border=\"1\" class=\"dataframe\">\n",
       "  <thead>\n",
       "    <tr style=\"text-align: right;\">\n",
       "      <th></th>\n",
       "      <th>Age</th>\n",
       "      <th>Growth</th>\n",
       "      <th>Shoe size</th>\n",
       "      <th>Course number</th>\n",
       "      <th>Year of birth</th>\n",
       "      <th>Friend number</th>\n",
       "      <th>Russian rating</th>\n",
       "      <th>Maths rating</th>\n",
       "      <th>Physics rating</th>\n",
       "      <th>Computer science rating</th>\n",
       "      <th>...</th>\n",
       "      <th>Social network duration min</th>\n",
       "      <th>Chocolate</th>\n",
       "      <th>City population</th>\n",
       "      <th>Strange people</th>\n",
       "      <th>Your insitute</th>\n",
       "      <th>Brother-sister</th>\n",
       "      <th>Plane seat</th>\n",
       "      <th>MIddle and index finger</th>\n",
       "      <th>Middle and ring finger</th>\n",
       "      <th>Middle and little finger</th>\n",
       "    </tr>\n",
       "  </thead>\n",
       "  <tbody>\n",
       "  </tbody>\n",
       "</table>\n",
       "<p>0 rows × 48 columns</p>\n",
       "</div>"
      ],
      "text/plain": [
       "Empty DataFrame\n",
       "Columns: [Age, Growth, Shoe size, Course number, Year of birth, Friend number, Russian rating, Maths rating, Physics rating, Computer science rating, Chemistry rating, Literature rating, History rating, Geography rating, Biology rating, Foreign language rating, Social science rating, Distance to home km, Minutes to first class, Children number, Removed teeth, Weight, Glasses, Sex, Problems in last semester, Coin, Rock paper scissors, Animal, Month of birthday, Your rating in university, Fastfood, Height of 5000 mm, Width of 5000 mm, Putin age, Army, Hostel, Hair length, Floor number, Social network duration min, Chocolate, City population, Strange people, Your insitute, Brother-sister, Plane seat, MIddle and index finger, Middle and ring finger, Middle and little finger]\n",
       "Index: []\n",
       "\n",
       "[0 rows x 48 columns]"
      ]
     },
     "execution_count": 44,
     "metadata": {},
     "output_type": "execute_result"
    }
   ],
   "source": [
    "asdf=df[(df['Age']+df['Year of birth']==2022)|(df['Age']+df['Year of birth'])==2021]\n",
    "asdf"
   ]
  },
  {
   "cell_type": "code",
   "execution_count": 80,
   "id": "59d4d056",
   "metadata": {},
   "outputs": [
    {
     "data": {
      "text/plain": [
       "(110, 48)"
      ]
     },
     "execution_count": 80,
     "metadata": {},
     "output_type": "execute_result"
    }
   ],
   "source": [
    "df[df['Growth']<df['Growth'].mean()].shape"
   ]
  },
  {
   "cell_type": "code",
   "execution_count": 46,
   "id": "85019eec",
   "metadata": {},
   "outputs": [],
   "source": [
    "peopleWhoCool=df[df['Age']+df['Year of birth']==2021]\n",
    "peopleWhoNotCool=df[df['Age']+df['Year of birth']==2022]"
   ]
  },
  {
   "cell_type": "code",
   "execution_count": 47,
   "id": "b8689dfa",
   "metadata": {},
   "outputs": [
    {
     "data": {
      "text/plain": [
       "((81, 48), (102, 48))"
      ]
     },
     "execution_count": 47,
     "metadata": {},
     "output_type": "execute_result"
    }
   ],
   "source": [
    "peopleWhoCool.shape,peopleWhoNotCool.shape"
   ]
  },
  {
   "cell_type": "code",
   "execution_count": 48,
   "id": "f8222e0c",
   "metadata": {},
   "outputs": [
    {
     "name": "stdout",
     "output_type": "stream",
     "text": [
      "183\n"
     ]
    }
   ],
   "source": [
    "summ=peopleWhoCool.shape[0]+peopleWhoNotCool.shape[0]\n",
    "print(summ)"
   ]
  },
  {
   "cell_type": "code",
   "execution_count": 49,
   "id": "957b24b0",
   "metadata": {},
   "outputs": [],
   "source": [
    "beadPeople=df[(df['Age']+df['Year of birth']!=2021)&(df['Age']+df['Year of birth']!=2022)]"
   ]
  },
  {
   "cell_type": "code",
   "execution_count": 50,
   "id": "b3450a48",
   "metadata": {},
   "outputs": [
    {
     "data": {
      "text/html": [
       "<div>\n",
       "<style scoped>\n",
       "    .dataframe tbody tr th:only-of-type {\n",
       "        vertical-align: middle;\n",
       "    }\n",
       "\n",
       "    .dataframe tbody tr th {\n",
       "        vertical-align: top;\n",
       "    }\n",
       "\n",
       "    .dataframe thead th {\n",
       "        text-align: right;\n",
       "    }\n",
       "</style>\n",
       "<table border=\"1\" class=\"dataframe\">\n",
       "  <thead>\n",
       "    <tr style=\"text-align: right;\">\n",
       "      <th></th>\n",
       "      <th>Age</th>\n",
       "      <th>Growth</th>\n",
       "      <th>Shoe size</th>\n",
       "      <th>Course number</th>\n",
       "      <th>Year of birth</th>\n",
       "      <th>Friend number</th>\n",
       "      <th>Russian rating</th>\n",
       "      <th>Maths rating</th>\n",
       "      <th>Physics rating</th>\n",
       "      <th>Computer science rating</th>\n",
       "      <th>...</th>\n",
       "      <th>Social network duration min</th>\n",
       "      <th>Chocolate</th>\n",
       "      <th>City population</th>\n",
       "      <th>Strange people</th>\n",
       "      <th>Your insitute</th>\n",
       "      <th>Brother-sister</th>\n",
       "      <th>Plane seat</th>\n",
       "      <th>MIddle and index finger</th>\n",
       "      <th>Middle and ring finger</th>\n",
       "      <th>Middle and little finger</th>\n",
       "    </tr>\n",
       "  </thead>\n",
       "  <tbody>\n",
       "    <tr>\n",
       "      <th>35</th>\n",
       "      <td>22</td>\n",
       "      <td>185</td>\n",
       "      <td>44</td>\n",
       "      <td>4</td>\n",
       "      <td>200</td>\n",
       "      <td>87</td>\n",
       "      <td>95</td>\n",
       "      <td>50</td>\n",
       "      <td>0</td>\n",
       "      <td>62</td>\n",
       "      <td>...</td>\n",
       "      <td>100</td>\n",
       "      <td>Сникерс</td>\n",
       "      <td>880000.0</td>\n",
       "      <td>Математический и ИТ</td>\n",
       "      <td>Математический и ИТ</td>\n",
       "      <td>есть сестра</td>\n",
       "      <td>У прохода</td>\n",
       "      <td>5</td>\n",
       "      <td>9.0</td>\n",
       "      <td>25.0</td>\n",
       "    </tr>\n",
       "    <tr>\n",
       "      <th>81</th>\n",
       "      <td>55</td>\n",
       "      <td>160</td>\n",
       "      <td>37</td>\n",
       "      <td>7</td>\n",
       "      <td>1960</td>\n",
       "      <td>2000</td>\n",
       "      <td>0</td>\n",
       "      <td>0</td>\n",
       "      <td>0</td>\n",
       "      <td>0</td>\n",
       "      <td>...</td>\n",
       "      <td>300</td>\n",
       "      <td>Милки Вей</td>\n",
       "      <td>800000.0</td>\n",
       "      <td>СоцГум</td>\n",
       "      <td>Математический и ИТ</td>\n",
       "      <td>есть брат</td>\n",
       "      <td>У окна (пардон: у иллюминатора)</td>\n",
       "      <td>10</td>\n",
       "      <td>10.0</td>\n",
       "      <td>10.0</td>\n",
       "    </tr>\n",
       "    <tr>\n",
       "      <th>142</th>\n",
       "      <td>24</td>\n",
       "      <td>164</td>\n",
       "      <td>37</td>\n",
       "      <td>7</td>\n",
       "      <td>1988</td>\n",
       "      <td>104</td>\n",
       "      <td>76</td>\n",
       "      <td>100</td>\n",
       "      <td>0</td>\n",
       "      <td>0</td>\n",
       "      <td>...</td>\n",
       "      <td>120</td>\n",
       "      <td>Милки Вей</td>\n",
       "      <td>1200000.0</td>\n",
       "      <td>Математический и ИТ</td>\n",
       "      <td>СоцГум</td>\n",
       "      <td>нет ни брата ни сестры</td>\n",
       "      <td>У прохода</td>\n",
       "      <td>10</td>\n",
       "      <td>15.0</td>\n",
       "      <td>24.0</td>\n",
       "    </tr>\n",
       "  </tbody>\n",
       "</table>\n",
       "<p>3 rows × 48 columns</p>\n",
       "</div>"
      ],
      "text/plain": [
       "     Age  Growth  Shoe size  Course number  Year of birth  Friend number  \\\n",
       "35    22     185         44              4            200             87   \n",
       "81    55     160         37              7           1960           2000   \n",
       "142   24     164         37              7           1988            104   \n",
       "\n",
       "     Russian rating  Maths rating  Physics rating  Computer science rating  \\\n",
       "35               95            50               0                       62   \n",
       "81                0             0               0                        0   \n",
       "142              76           100               0                        0   \n",
       "\n",
       "     ...  Social network duration min  Chocolate  City population  \\\n",
       "35   ...                          100    Сникерс         880000.0   \n",
       "81   ...                          300  Милки Вей         800000.0   \n",
       "142  ...                          120  Милки Вей        1200000.0   \n",
       "\n",
       "          Strange people        Your insitute          Brother-sister  \\\n",
       "35   Математический и ИТ  Математический и ИТ             есть сестра   \n",
       "81                СоцГум  Математический и ИТ               есть брат   \n",
       "142  Математический и ИТ               СоцГум  нет ни брата ни сестры   \n",
       "\n",
       "                          Plane seat  MIddle and index finger  \\\n",
       "35                         У прохода                        5   \n",
       "81   У окна (пардон: у иллюминатора)                       10   \n",
       "142                        У прохода                       10   \n",
       "\n",
       "     Middle and ring finger  Middle and little finger  \n",
       "35                      9.0                      25.0  \n",
       "81                     10.0                      10.0  \n",
       "142                    15.0                      24.0  \n",
       "\n",
       "[3 rows x 48 columns]"
      ]
     },
     "execution_count": 50,
     "metadata": {},
     "output_type": "execute_result"
    }
   ],
   "source": [
    "beadPeople"
   ]
  },
  {
   "cell_type": "code",
   "execution_count": 51,
   "id": "be186410",
   "metadata": {},
   "outputs": [
    {
     "data": {
      "text/html": [
       "<div>\n",
       "<style scoped>\n",
       "    .dataframe tbody tr th:only-of-type {\n",
       "        vertical-align: middle;\n",
       "    }\n",
       "\n",
       "    .dataframe tbody tr th {\n",
       "        vertical-align: top;\n",
       "    }\n",
       "\n",
       "    .dataframe thead th {\n",
       "        text-align: right;\n",
       "    }\n",
       "</style>\n",
       "<table border=\"1\" class=\"dataframe\">\n",
       "  <thead>\n",
       "    <tr style=\"text-align: right;\">\n",
       "      <th></th>\n",
       "      <th>Weight</th>\n",
       "      <th>Growth</th>\n",
       "    </tr>\n",
       "  </thead>\n",
       "  <tbody>\n",
       "    <tr>\n",
       "      <th>0</th>\n",
       "      <td>64.0</td>\n",
       "      <td>170</td>\n",
       "    </tr>\n",
       "    <tr>\n",
       "      <th>1</th>\n",
       "      <td>73.0</td>\n",
       "      <td>191</td>\n",
       "    </tr>\n",
       "    <tr>\n",
       "      <th>2</th>\n",
       "      <td>60.0</td>\n",
       "      <td>172</td>\n",
       "    </tr>\n",
       "    <tr>\n",
       "      <th>3</th>\n",
       "      <td>59.0</td>\n",
       "      <td>168</td>\n",
       "    </tr>\n",
       "    <tr>\n",
       "      <th>4</th>\n",
       "      <td>57.0</td>\n",
       "      <td>159</td>\n",
       "    </tr>\n",
       "    <tr>\n",
       "      <th>...</th>\n",
       "      <td>...</td>\n",
       "      <td>...</td>\n",
       "    </tr>\n",
       "    <tr>\n",
       "      <th>181</th>\n",
       "      <td>59.0</td>\n",
       "      <td>168</td>\n",
       "    </tr>\n",
       "    <tr>\n",
       "      <th>182</th>\n",
       "      <td>43.0</td>\n",
       "      <td>169</td>\n",
       "    </tr>\n",
       "    <tr>\n",
       "      <th>183</th>\n",
       "      <td>51.0</td>\n",
       "      <td>161</td>\n",
       "    </tr>\n",
       "    <tr>\n",
       "      <th>184</th>\n",
       "      <td>62.0</td>\n",
       "      <td>169</td>\n",
       "    </tr>\n",
       "    <tr>\n",
       "      <th>185</th>\n",
       "      <td>54.0</td>\n",
       "      <td>164</td>\n",
       "    </tr>\n",
       "  </tbody>\n",
       "</table>\n",
       "<p>186 rows × 2 columns</p>\n",
       "</div>"
      ],
      "text/plain": [
       "     Weight  Growth\n",
       "0      64.0     170\n",
       "1      73.0     191\n",
       "2      60.0     172\n",
       "3      59.0     168\n",
       "4      57.0     159\n",
       "..      ...     ...\n",
       "181    59.0     168\n",
       "182    43.0     169\n",
       "183    51.0     161\n",
       "184    62.0     169\n",
       "185    54.0     164\n",
       "\n",
       "[186 rows x 2 columns]"
      ]
     },
     "execution_count": 51,
     "metadata": {},
     "output_type": "execute_result"
    }
   ],
   "source": [
    "df[['Weight','Growth']]"
   ]
  },
  {
   "cell_type": "code",
   "execution_count": 52,
   "id": "1984bfc7",
   "metadata": {},
   "outputs": [
    {
     "data": {
      "text/plain": [
       "7    180\n",
       "Name: Growth, dtype: int64"
      ]
     },
     "execution_count": 52,
     "metadata": {},
     "output_type": "execute_result"
    }
   ],
   "source": [
    "df[df['Weight']==120].Growth"
   ]
  },
  {
   "cell_type": "code",
   "execution_count": 53,
   "id": "433a231f",
   "metadata": {},
   "outputs": [
    {
     "data": {
      "text/plain": [
       "7    180\n",
       "Name: Growth, dtype: int64"
      ]
     },
     "execution_count": 53,
     "metadata": {},
     "output_type": "execute_result"
    }
   ],
   "source": [
    "df['Growth'][df['Weight']==df['Weight'].max()]"
   ]
  },
  {
   "cell_type": "code",
   "execution_count": 54,
   "id": "ff89a7c1",
   "metadata": {
    "lang": "en",
    "scrolled": true
   },
   "outputs": [
    {
     "name": "stdout",
     "output_type": "stream",
     "text": [
      "<class 'pandas.core.frame.DataFrame'>\n",
      "RangeIndex: 186 entries, 0 to 185\n",
      "Data columns (total 48 columns):\n",
      " #   Column                       Non-Null Count  Dtype  \n",
      "---  ------                       --------------  -----  \n",
      " 0   Age                          186 non-null    int64  \n",
      " 1   Growth                       186 non-null    int64  \n",
      " 2   Shoe size                    186 non-null    int64  \n",
      " 3   Course number                186 non-null    int64  \n",
      " 4   Year of birth                186 non-null    int64  \n",
      " 5   Friend number                186 non-null    int64  \n",
      " 6   Russian rating               186 non-null    int64  \n",
      " 7   Maths rating                 186 non-null    int64  \n",
      " 8   Physics rating               186 non-null    int64  \n",
      " 9   Computer science rating      186 non-null    int64  \n",
      " 10  Chemistry rating             186 non-null    int64  \n",
      " 11  Literature rating            186 non-null    int64  \n",
      " 12  History rating               186 non-null    int64  \n",
      " 13  Geography rating             186 non-null    int64  \n",
      " 14  Biology rating               186 non-null    int64  \n",
      " 15  Foreign language rating      186 non-null    int64  \n",
      " 16  Social science rating        186 non-null    int64  \n",
      " 17  Distance to home km          186 non-null    int64  \n",
      " 18  Minutes to first class       186 non-null    int64  \n",
      " 19  Children number              150 non-null    float64\n",
      " 20  Removed teeth                148 non-null    float64\n",
      " 21  Weight                       157 non-null    float64\n",
      " 22  Glasses                      184 non-null    object \n",
      " 23  Sex                          186 non-null    object \n",
      " 24  Problems in last semester    186 non-null    object \n",
      " 25  Coin                         186 non-null    object \n",
      " 26  Rock paper scissors          186 non-null    object \n",
      " 27  Animal                       186 non-null    object \n",
      " 28  Month of birthday            186 non-null    int64  \n",
      " 29  Your rating in university    186 non-null    object \n",
      " 30  Fastfood                     186 non-null    object \n",
      " 31  Height of 5000 mm            186 non-null    int64  \n",
      " 32  Width of 5000 mm             186 non-null    int64  \n",
      " 33  Putin age                    186 non-null    int64  \n",
      " 34  Army                         186 non-null    object \n",
      " 35  Hostel                       186 non-null    object \n",
      " 36  Hair length                  186 non-null    float64\n",
      " 37  Floor number                 186 non-null    int64  \n",
      " 38  Social network duration min  186 non-null    int64  \n",
      " 39  Chocolate                    186 non-null    object \n",
      " 40  City population              186 non-null    float64\n",
      " 41  Strange people               186 non-null    object \n",
      " 42  Your insitute                186 non-null    object \n",
      " 43  Brother-sister               186 non-null    object \n",
      " 44  Plane seat                   186 non-null    object \n",
      " 45  MIddle and index finger      186 non-null    int64  \n",
      " 46  Middle and ring finger       186 non-null    float64\n",
      " 47  Middle and little finger     186 non-null    float64\n",
      "dtypes: float64(7), int64(26), object(15)\n",
      "memory usage: 69.9+ KB\n"
     ]
    }
   ],
   "source": [
    "df.info()"
   ]
  },
  {
   "cell_type": "code",
   "execution_count": 55,
   "id": "ab372322",
   "metadata": {},
   "outputs": [
    {
     "data": {
      "text/plain": [
       "(27, 48)"
      ]
     },
     "execution_count": 55,
     "metadata": {},
     "output_type": "execute_result"
    }
   ],
   "source": [
    "df[df['Problems in last semester']=='да'].shape"
   ]
  },
  {
   "cell_type": "code",
   "execution_count": 56,
   "id": "aaeab9cb",
   "metadata": {},
   "outputs": [
    {
     "data": {
      "text/plain": [
       "0      не призовут (по разным причинам)\n",
       "1      не призовут (по разным причинам)\n",
       "2                        могут призвать\n",
       "3      не призовут (по разным причинам)\n",
       "4      не призовут (по разным причинам)\n",
       "                     ...               \n",
       "181    не призовут (по разным причинам)\n",
       "182    не призовут (по разным причинам)\n",
       "183    не призовут (по разным причинам)\n",
       "184    не призовут (по разным причинам)\n",
       "185    не призовут (по разным причинам)\n",
       "Name: Army, Length: 186, dtype: object"
      ]
     },
     "execution_count": 56,
     "metadata": {},
     "output_type": "execute_result"
    }
   ],
   "source": [
    "df['Army']"
   ]
  },
  {
   "cell_type": "code",
   "execution_count": 57,
   "id": "950e037e",
   "metadata": {},
   "outputs": [],
   "source": [
    "army_persons=df[df['Army']=='могут призвать']"
   ]
  },
  {
   "cell_type": "code",
   "execution_count": 58,
   "id": "72a1b022",
   "metadata": {
    "scrolled": true
   },
   "outputs": [
    {
     "data": {
      "text/plain": [
       "7.0"
      ]
     },
     "execution_count": 58,
     "metadata": {},
     "output_type": "execute_result"
    }
   ],
   "source": [
    "army_persons['Hair length'].median()"
   ]
  },
  {
   "cell_type": "code",
   "execution_count": 59,
   "id": "60bc7b88",
   "metadata": {},
   "outputs": [],
   "source": [
    "free_persons=df[df['Army']!='могут призвать']"
   ]
  },
  {
   "cell_type": "code",
   "execution_count": 60,
   "id": "efc636d1",
   "metadata": {},
   "outputs": [
    {
     "data": {
      "text/plain": [
       "40.0"
      ]
     },
     "execution_count": 60,
     "metadata": {},
     "output_type": "execute_result"
    }
   ],
   "source": [
    "free_persons['Hair length'].median()"
   ]
  },
  {
   "cell_type": "code",
   "execution_count": 61,
   "id": "0629bb25",
   "metadata": {},
   "outputs": [],
   "source": [
    "single_persons=df[df['Friend number']==0].Sex"
   ]
  },
  {
   "cell_type": "code",
   "execution_count": 62,
   "id": "c995d07b",
   "metadata": {},
   "outputs": [
    {
     "data": {
      "text/plain": [
       "6      мужской\n",
       "182    женский\n",
       "Name: Sex, dtype: object"
      ]
     },
     "execution_count": 62,
     "metadata": {},
     "output_type": "execute_result"
    }
   ],
   "source": [
    "single_persons"
   ]
  },
  {
   "cell_type": "code",
   "execution_count": 63,
   "id": "76afb12b",
   "metadata": {},
   "outputs": [],
   "source": [
    "single_persons_SecondChanse = df[['Friend number','Sex']]"
   ]
  },
  {
   "cell_type": "code",
   "execution_count": 64,
   "id": "a0f02e54",
   "metadata": {},
   "outputs": [
    {
     "data": {
      "text/html": [
       "<div>\n",
       "<style scoped>\n",
       "    .dataframe tbody tr th:only-of-type {\n",
       "        vertical-align: middle;\n",
       "    }\n",
       "\n",
       "    .dataframe tbody tr th {\n",
       "        vertical-align: top;\n",
       "    }\n",
       "\n",
       "    .dataframe thead th {\n",
       "        text-align: right;\n",
       "    }\n",
       "</style>\n",
       "<table border=\"1\" class=\"dataframe\">\n",
       "  <thead>\n",
       "    <tr style=\"text-align: right;\">\n",
       "      <th></th>\n",
       "      <th>Friend number</th>\n",
       "      <th>Sex</th>\n",
       "    </tr>\n",
       "  </thead>\n",
       "  <tbody>\n",
       "    <tr>\n",
       "      <th>6</th>\n",
       "      <td>0</td>\n",
       "      <td>мужской</td>\n",
       "    </tr>\n",
       "    <tr>\n",
       "      <th>182</th>\n",
       "      <td>0</td>\n",
       "      <td>женский</td>\n",
       "    </tr>\n",
       "  </tbody>\n",
       "</table>\n",
       "</div>"
      ],
      "text/plain": [
       "     Friend number      Sex\n",
       "6                0  мужской\n",
       "182              0  женский"
      ]
     },
     "execution_count": 64,
     "metadata": {},
     "output_type": "execute_result"
    }
   ],
   "source": [
    "single_persons_SecondChanse[single_persons_SecondChanse['Friend number']==0]"
   ]
  },
  {
   "cell_type": "code",
   "execution_count": 65,
   "id": "a68058c9",
   "metadata": {},
   "outputs": [
    {
     "name": "stdout",
     "output_type": "stream",
     "text": [
      "<class 'pandas.core.frame.DataFrame'>\n",
      "RangeIndex: 186 entries, 0 to 185\n",
      "Data columns (total 48 columns):\n",
      " #   Column                       Non-Null Count  Dtype  \n",
      "---  ------                       --------------  -----  \n",
      " 0   Age                          186 non-null    int64  \n",
      " 1   Growth                       186 non-null    int64  \n",
      " 2   Shoe size                    186 non-null    int64  \n",
      " 3   Course number                186 non-null    int64  \n",
      " 4   Year of birth                186 non-null    int64  \n",
      " 5   Friend number                186 non-null    int64  \n",
      " 6   Russian rating               186 non-null    int64  \n",
      " 7   Maths rating                 186 non-null    int64  \n",
      " 8   Physics rating               186 non-null    int64  \n",
      " 9   Computer science rating      186 non-null    int64  \n",
      " 10  Chemistry rating             186 non-null    int64  \n",
      " 11  Literature rating            186 non-null    int64  \n",
      " 12  History rating               186 non-null    int64  \n",
      " 13  Geography rating             186 non-null    int64  \n",
      " 14  Biology rating               186 non-null    int64  \n",
      " 15  Foreign language rating      186 non-null    int64  \n",
      " 16  Social science rating        186 non-null    int64  \n",
      " 17  Distance to home km          186 non-null    int64  \n",
      " 18  Minutes to first class       186 non-null    int64  \n",
      " 19  Children number              150 non-null    float64\n",
      " 20  Removed teeth                148 non-null    float64\n",
      " 21  Weight                       157 non-null    float64\n",
      " 22  Glasses                      184 non-null    object \n",
      " 23  Sex                          186 non-null    object \n",
      " 24  Problems in last semester    186 non-null    object \n",
      " 25  Coin                         186 non-null    object \n",
      " 26  Rock paper scissors          186 non-null    object \n",
      " 27  Animal                       186 non-null    object \n",
      " 28  Month of birthday            186 non-null    int64  \n",
      " 29  Your rating in university    186 non-null    object \n",
      " 30  Fastfood                     186 non-null    object \n",
      " 31  Height of 5000 mm            186 non-null    int64  \n",
      " 32  Width of 5000 mm             186 non-null    int64  \n",
      " 33  Putin age                    186 non-null    int64  \n",
      " 34  Army                         186 non-null    object \n",
      " 35  Hostel                       186 non-null    object \n",
      " 36  Hair length                  186 non-null    float64\n",
      " 37  Floor number                 186 non-null    int64  \n",
      " 38  Social network duration min  186 non-null    int64  \n",
      " 39  Chocolate                    186 non-null    object \n",
      " 40  City population              186 non-null    float64\n",
      " 41  Strange people               186 non-null    object \n",
      " 42  Your insitute                186 non-null    object \n",
      " 43  Brother-sister               186 non-null    object \n",
      " 44  Plane seat                   186 non-null    object \n",
      " 45  MIddle and index finger      186 non-null    int64  \n",
      " 46  Middle and ring finger       186 non-null    float64\n",
      " 47  Middle and little finger     186 non-null    float64\n",
      "dtypes: float64(7), int64(26), object(15)\n",
      "memory usage: 69.9+ KB\n"
     ]
    }
   ],
   "source": [
    "df.info()"
   ]
  },
  {
   "cell_type": "code",
   "execution_count": 66,
   "id": "9dfe828a",
   "metadata": {},
   "outputs": [],
   "source": [
    "dog_lovers=df[df['Animal']=='Собак']"
   ]
  },
  {
   "cell_type": "code",
   "execution_count": 67,
   "id": "94b76840",
   "metadata": {
    "scrolled": true
   },
   "outputs": [
    {
     "data": {
      "text/html": [
       "<div>\n",
       "<style scoped>\n",
       "    .dataframe tbody tr th:only-of-type {\n",
       "        vertical-align: middle;\n",
       "    }\n",
       "\n",
       "    .dataframe tbody tr th {\n",
       "        vertical-align: top;\n",
       "    }\n",
       "\n",
       "    .dataframe thead th {\n",
       "        text-align: right;\n",
       "    }\n",
       "</style>\n",
       "<table border=\"1\" class=\"dataframe\">\n",
       "  <thead>\n",
       "    <tr style=\"text-align: right;\">\n",
       "      <th></th>\n",
       "      <th>Age</th>\n",
       "      <th>Growth</th>\n",
       "      <th>Shoe size</th>\n",
       "      <th>Course number</th>\n",
       "      <th>Year of birth</th>\n",
       "      <th>Friend number</th>\n",
       "      <th>Russian rating</th>\n",
       "      <th>Maths rating</th>\n",
       "      <th>Physics rating</th>\n",
       "      <th>Computer science rating</th>\n",
       "      <th>...</th>\n",
       "      <th>Social network duration min</th>\n",
       "      <th>Chocolate</th>\n",
       "      <th>City population</th>\n",
       "      <th>Strange people</th>\n",
       "      <th>Your insitute</th>\n",
       "      <th>Brother-sister</th>\n",
       "      <th>Plane seat</th>\n",
       "      <th>MIddle and index finger</th>\n",
       "      <th>Middle and ring finger</th>\n",
       "      <th>Middle and little finger</th>\n",
       "    </tr>\n",
       "  </thead>\n",
       "  <tbody>\n",
       "    <tr>\n",
       "      <th>6</th>\n",
       "      <td>18</td>\n",
       "      <td>180</td>\n",
       "      <td>42</td>\n",
       "      <td>0</td>\n",
       "      <td>2004</td>\n",
       "      <td>0</td>\n",
       "      <td>66</td>\n",
       "      <td>4</td>\n",
       "      <td>0</td>\n",
       "      <td>0</td>\n",
       "      <td>...</td>\n",
       "      <td>30</td>\n",
       "      <td>Сникерс</td>\n",
       "      <td>700000.0</td>\n",
       "      <td>Педагогический</td>\n",
       "      <td>Юридический</td>\n",
       "      <td>есть брат</td>\n",
       "      <td>У окна (пардон: у иллюминатора)</td>\n",
       "      <td>5</td>\n",
       "      <td>30.0</td>\n",
       "      <td>35.0</td>\n",
       "    </tr>\n",
       "    <tr>\n",
       "      <th>26</th>\n",
       "      <td>18</td>\n",
       "      <td>163</td>\n",
       "      <td>36</td>\n",
       "      <td>1</td>\n",
       "      <td>2004</td>\n",
       "      <td>110</td>\n",
       "      <td>98</td>\n",
       "      <td>88</td>\n",
       "      <td>0</td>\n",
       "      <td>88</td>\n",
       "      <td>...</td>\n",
       "      <td>1000</td>\n",
       "      <td>Натс</td>\n",
       "      <td>1000000.0</td>\n",
       "      <td>Математический и ИТ</td>\n",
       "      <td>Математический и ИТ</td>\n",
       "      <td>есть сестра</td>\n",
       "      <td>У окна (пардон: у иллюминатора)</td>\n",
       "      <td>10</td>\n",
       "      <td>12.0</td>\n",
       "      <td>35.0</td>\n",
       "    </tr>\n",
       "    <tr>\n",
       "      <th>61</th>\n",
       "      <td>18</td>\n",
       "      <td>182</td>\n",
       "      <td>43</td>\n",
       "      <td>2</td>\n",
       "      <td>2003</td>\n",
       "      <td>156</td>\n",
       "      <td>80</td>\n",
       "      <td>82</td>\n",
       "      <td>46</td>\n",
       "      <td>0</td>\n",
       "      <td>...</td>\n",
       "      <td>90</td>\n",
       "      <td>Твикс</td>\n",
       "      <td>970000.0</td>\n",
       "      <td>Педагогический</td>\n",
       "      <td>Математический и ИТ</td>\n",
       "      <td>есть брат</td>\n",
       "      <td>В середине</td>\n",
       "      <td>15</td>\n",
       "      <td>4.0</td>\n",
       "      <td>29.0</td>\n",
       "    </tr>\n",
       "    <tr>\n",
       "      <th>72</th>\n",
       "      <td>19</td>\n",
       "      <td>166</td>\n",
       "      <td>41</td>\n",
       "      <td>3</td>\n",
       "      <td>2003</td>\n",
       "      <td>12</td>\n",
       "      <td>87</td>\n",
       "      <td>76</td>\n",
       "      <td>0</td>\n",
       "      <td>83</td>\n",
       "      <td>...</td>\n",
       "      <td>1080</td>\n",
       "      <td>Сникерс</td>\n",
       "      <td>800000.0</td>\n",
       "      <td>Математический и ИТ</td>\n",
       "      <td>Математический и ИТ</td>\n",
       "      <td>есть сестра</td>\n",
       "      <td>У окна (пардон: у иллюминатора)</td>\n",
       "      <td>12</td>\n",
       "      <td>12.0</td>\n",
       "      <td>40.0</td>\n",
       "    </tr>\n",
       "    <tr>\n",
       "      <th>128</th>\n",
       "      <td>19</td>\n",
       "      <td>182</td>\n",
       "      <td>43</td>\n",
       "      <td>2</td>\n",
       "      <td>2003</td>\n",
       "      <td>50</td>\n",
       "      <td>76</td>\n",
       "      <td>74</td>\n",
       "      <td>0</td>\n",
       "      <td>92</td>\n",
       "      <td>...</td>\n",
       "      <td>120</td>\n",
       "      <td>Твикс</td>\n",
       "      <td>760000.0</td>\n",
       "      <td>Математический и ИТ</td>\n",
       "      <td>Математический и ИТ</td>\n",
       "      <td>есть и брат и сестра</td>\n",
       "      <td>У окна (пардон: у иллюминатора)</td>\n",
       "      <td>8</td>\n",
       "      <td>8.0</td>\n",
       "      <td>20.0</td>\n",
       "    </tr>\n",
       "    <tr>\n",
       "      <th>153</th>\n",
       "      <td>19</td>\n",
       "      <td>180</td>\n",
       "      <td>44</td>\n",
       "      <td>2</td>\n",
       "      <td>2003</td>\n",
       "      <td>85</td>\n",
       "      <td>94</td>\n",
       "      <td>0</td>\n",
       "      <td>0</td>\n",
       "      <td>0</td>\n",
       "      <td>...</td>\n",
       "      <td>240</td>\n",
       "      <td>Марс</td>\n",
       "      <td>850000.0</td>\n",
       "      <td>Естественный (биология-химия-физика-технари)</td>\n",
       "      <td>СоцГум</td>\n",
       "      <td>есть сестра</td>\n",
       "      <td>У окна (пардон: у иллюминатора)</td>\n",
       "      <td>16</td>\n",
       "      <td>25.0</td>\n",
       "      <td>40.0</td>\n",
       "    </tr>\n",
       "    <tr>\n",
       "      <th>183</th>\n",
       "      <td>18</td>\n",
       "      <td>161</td>\n",
       "      <td>37</td>\n",
       "      <td>2</td>\n",
       "      <td>2003</td>\n",
       "      <td>11</td>\n",
       "      <td>98</td>\n",
       "      <td>0</td>\n",
       "      <td>0</td>\n",
       "      <td>0</td>\n",
       "      <td>...</td>\n",
       "      <td>460</td>\n",
       "      <td>Твикс</td>\n",
       "      <td>1000000.0</td>\n",
       "      <td>Естественный (биология-химия-физика-технари)</td>\n",
       "      <td>Другое</td>\n",
       "      <td>есть и брат и сестра</td>\n",
       "      <td>У окна (пардон: у иллюминатора)</td>\n",
       "      <td>9</td>\n",
       "      <td>16.0</td>\n",
       "      <td>35.0</td>\n",
       "    </tr>\n",
       "  </tbody>\n",
       "</table>\n",
       "<p>7 rows × 48 columns</p>\n",
       "</div>"
      ],
      "text/plain": [
       "     Age  Growth  Shoe size  Course number  Year of birth  Friend number  \\\n",
       "6     18     180         42              0           2004              0   \n",
       "26    18     163         36              1           2004            110   \n",
       "61    18     182         43              2           2003            156   \n",
       "72    19     166         41              3           2003             12   \n",
       "128   19     182         43              2           2003             50   \n",
       "153   19     180         44              2           2003             85   \n",
       "183   18     161         37              2           2003             11   \n",
       "\n",
       "     Russian rating  Maths rating  Physics rating  Computer science rating  \\\n",
       "6                66             4               0                        0   \n",
       "26               98            88               0                       88   \n",
       "61               80            82              46                        0   \n",
       "72               87            76               0                       83   \n",
       "128              76            74               0                       92   \n",
       "153              94             0               0                        0   \n",
       "183              98             0               0                        0   \n",
       "\n",
       "     ...  Social network duration min  Chocolate  City population  \\\n",
       "6    ...                           30    Сникерс         700000.0   \n",
       "26   ...                         1000       Натс        1000000.0   \n",
       "61   ...                           90      Твикс         970000.0   \n",
       "72   ...                         1080    Сникерс         800000.0   \n",
       "128  ...                          120      Твикс         760000.0   \n",
       "153  ...                          240       Марс         850000.0   \n",
       "183  ...                          460      Твикс        1000000.0   \n",
       "\n",
       "                                   Strange people        Your insitute  \\\n",
       "6                                  Педагогический          Юридический   \n",
       "26                            Математический и ИТ  Математический и ИТ   \n",
       "61                                 Педагогический  Математический и ИТ   \n",
       "72                            Математический и ИТ  Математический и ИТ   \n",
       "128                           Математический и ИТ  Математический и ИТ   \n",
       "153  Естественный (биология-химия-физика-технари)               СоцГум   \n",
       "183  Естественный (биология-химия-физика-технари)               Другое   \n",
       "\n",
       "           Brother-sister                       Plane seat  \\\n",
       "6               есть брат  У окна (пардон: у иллюминатора)   \n",
       "26            есть сестра  У окна (пардон: у иллюминатора)   \n",
       "61              есть брат                       В середине   \n",
       "72            есть сестра  У окна (пардон: у иллюминатора)   \n",
       "128  есть и брат и сестра  У окна (пардон: у иллюминатора)   \n",
       "153           есть сестра  У окна (пардон: у иллюминатора)   \n",
       "183  есть и брат и сестра  У окна (пардон: у иллюминатора)   \n",
       "\n",
       "     MIddle and index finger  Middle and ring finger  Middle and little finger  \n",
       "6                          5                    30.0                      35.0  \n",
       "26                        10                    12.0                      35.0  \n",
       "61                        15                     4.0                      29.0  \n",
       "72                        12                    12.0                      40.0  \n",
       "128                        8                     8.0                      20.0  \n",
       "153                       16                    25.0                      40.0  \n",
       "183                        9                    16.0                      35.0  \n",
       "\n",
       "[7 rows x 48 columns]"
      ]
     },
     "execution_count": 67,
     "metadata": {},
     "output_type": "execute_result"
    }
   ],
   "source": [
    "dog_lovers[dog_lovers['Floor number']==1]"
   ]
  },
  {
   "cell_type": "code",
   "execution_count": 68,
   "id": "9fbca4bc",
   "metadata": {},
   "outputs": [],
   "source": [
    "single_child=df[df['Brother-sister']=='нет ни брата ни сестры']"
   ]
  },
  {
   "cell_type": "code",
   "execution_count": 69,
   "id": "fe1a2d52",
   "metadata": {},
   "outputs": [],
   "source": [
    "not_single_child=df[(df['Brother-sister']=='есть брат')|(df['Brother-sister']=='есть сестра')]"
   ]
  },
  {
   "cell_type": "code",
   "execution_count": 70,
   "id": "598fc232",
   "metadata": {},
   "outputs": [
    {
     "data": {
      "text/plain": [
       "240.0"
      ]
     },
     "execution_count": 70,
     "metadata": {},
     "output_type": "execute_result"
    }
   ],
   "source": [
    "single_child['Social network duration min'].median()"
   ]
  },
  {
   "cell_type": "code",
   "execution_count": 71,
   "id": "888fd1ba",
   "metadata": {},
   "outputs": [
    {
     "data": {
      "text/plain": [
       "180.0"
      ]
     },
     "execution_count": 71,
     "metadata": {},
     "output_type": "execute_result"
    }
   ],
   "source": [
    "not_single_child['Social network duration min'].median()"
   ]
  },
  {
   "cell_type": "code",
   "execution_count": 72,
   "id": "cbcba514",
   "metadata": {},
   "outputs": [
    {
     "name": "stdout",
     "output_type": "stream",
     "text": [
      "60.0\n"
     ]
    }
   ],
   "source": [
    "print(single_child['Social network duration min'].median()-not_single_child['Social network duration min'].median())"
   ]
  },
  {
   "cell_type": "code",
   "execution_count": 73,
   "id": "72cc4862",
   "metadata": {},
   "outputs": [
    {
     "data": {
      "text/plain": [
       "KFC                                                82\n",
       "Бургер кинг                                        56\n",
       "Макдональдс (или как он там сейчас называется?)    48\n",
       "Name: Fastfood, dtype: int64"
      ]
     },
     "execution_count": 73,
     "metadata": {},
     "output_type": "execute_result"
    }
   ],
   "source": [
    "df['Fastfood'].value_counts()"
   ]
  },
  {
   "cell_type": "code",
   "execution_count": 74,
   "id": "59e44971",
   "metadata": {},
   "outputs": [],
   "source": [
    "KFC_persons=df[df['Fastfood']=='KFC']\n",
    "Burger_persons=df[df['Fastfood']=='Бургер кинг']\n",
    "Mac_persons=df[df['Fastfood']=='Макдональдс (или как он там сейчас называется?)']"
   ]
  },
  {
   "cell_type": "code",
   "execution_count": 75,
   "id": "729edf4e",
   "metadata": {},
   "outputs": [
    {
     "data": {
      "text/plain": [
       "(66.85915492957747, 64.21739130434783, 58.8)"
      ]
     },
     "execution_count": 75,
     "metadata": {},
     "output_type": "execute_result"
    }
   ],
   "source": [
    "KFC_persons['Weight'].mean(),Burger_persons['Weight'].mean(),Mac_persons['Weight'].mean()"
   ]
  },
  {
   "cell_type": "code",
   "execution_count": 76,
   "id": "963cbb0d",
   "metadata": {},
   "outputs": [
    {
     "name": "stdout",
     "output_type": "stream",
     "text": [
      "8.059154929577474\n"
     ]
    }
   ],
   "source": [
    "print(KFC_persons['Weight'].mean()-Mac_persons['Weight'].mean())"
   ]
  },
  {
   "cell_type": "code",
   "execution_count": 77,
   "id": "3bbdb81d",
   "metadata": {},
   "outputs": [
    {
     "data": {
      "text/plain": [
       "(62.0, 61.5, 58.5)"
      ]
     },
     "execution_count": 77,
     "metadata": {},
     "output_type": "execute_result"
    }
   ],
   "source": [
    "KFC_persons['Weight'].median(),Burger_persons['Weight'].median(),Mac_persons['Weight'].median()"
   ]
  },
  {
   "cell_type": "code",
   "execution_count": 78,
   "id": "cb97890f",
   "metadata": {},
   "outputs": [
    {
     "data": {
      "text/plain": [
       "186"
      ]
     },
     "execution_count": 78,
     "metadata": {},
     "output_type": "execute_result"
    }
   ],
   "source": [
    "82+56+48"
   ]
  }
 ],
 "metadata": {
  "kernelspec": {
   "display_name": "Python 3 (ipykernel)",
   "language": "python",
   "name": "python3"
  },
  "language_info": {
   "codemirror_mode": {
    "name": "ipython",
    "version": 3
   },
   "file_extension": ".py",
   "mimetype": "text/x-python",
   "name": "python",
   "nbconvert_exporter": "python",
   "pygments_lexer": "ipython3",
   "version": "3.10.8"
  },
  "nbTranslate": {
   "displayLangs": [
    "fr",
    "en",
    "ru"
   ],
   "hotkey": "alt-t",
   "langInMainMenu": true,
   "sourceLang": "en",
   "targetLang": "ru",
   "useGoogleTranslate": true
  },
  "toc": {
   "base_numbering": 1,
   "nav_menu": {},
   "number_sections": true,
   "sideBar": true,
   "skip_h1_title": false,
   "title_cell": "Table of Contents",
   "title_sidebar": "Contents",
   "toc_cell": false,
   "toc_position": {
    "height": "calc(100% - 180px)",
    "left": "10px",
    "top": "150px",
    "width": "165px"
   },
   "toc_section_display": true,
   "toc_window_display": true
  }
 },
 "nbformat": 4,
 "nbformat_minor": 5
}
