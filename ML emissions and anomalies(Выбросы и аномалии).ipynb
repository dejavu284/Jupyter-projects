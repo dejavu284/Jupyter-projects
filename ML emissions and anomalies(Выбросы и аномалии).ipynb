{
 "cells": [
  {
   "cell_type": "code",
   "execution_count": 5,
   "id": "f933b60f",
   "metadata": {},
   "outputs": [
    {
     "name": "stdout",
     "output_type": "stream",
     "text": [
      "<class 'pandas.core.frame.DataFrame'>\n",
      "RangeIndex: 186 entries, 0 to 185\n",
      "Data columns (total 48 columns):\n",
      " #   Column                       Non-Null Count  Dtype  \n",
      "---  ------                       --------------  -----  \n",
      " 0   Age                          186 non-null    int64  \n",
      " 1   Growth                       186 non-null    int64  \n",
      " 2   Shoe size                    186 non-null    int64  \n",
      " 3   Course number                186 non-null    int64  \n",
      " 4   Year of birth                186 non-null    int64  \n",
      " 5   Friend number                186 non-null    int64  \n",
      " 6   Russian rating               186 non-null    int64  \n",
      " 7   Maths rating                 186 non-null    int64  \n",
      " 8   Physics rating               186 non-null    int64  \n",
      " 9   Computer science rating      186 non-null    int64  \n",
      " 10  Chemistry rating             186 non-null    int64  \n",
      " 11  Literature rating            186 non-null    int64  \n",
      " 12  History rating               186 non-null    int64  \n",
      " 13  Geography rating             186 non-null    int64  \n",
      " 14  Biology rating               186 non-null    int64  \n",
      " 15  Foreign language rating      186 non-null    int64  \n",
      " 16  Social science rating        186 non-null    int64  \n",
      " 17  Distance to home km          186 non-null    int64  \n",
      " 18  Minutes to first class       186 non-null    int64  \n",
      " 19  Children number              150 non-null    float64\n",
      " 20  Removed teeth                148 non-null    float64\n",
      " 21  Weight                       157 non-null    float64\n",
      " 22  Glasses                      184 non-null    object \n",
      " 23  Sex                          186 non-null    object \n",
      " 24  Problems in last semester    186 non-null    object \n",
      " 25  Coin                         186 non-null    object \n",
      " 26  Rock paper scissors          186 non-null    object \n",
      " 27  Animal                       186 non-null    object \n",
      " 28  Month of birthday            186 non-null    int64  \n",
      " 29  Your rating in university    186 non-null    object \n",
      " 30  Fastfood                     186 non-null    object \n",
      " 31  Height of 5000 mm            186 non-null    int64  \n",
      " 32  Width of 5000 mm             186 non-null    int64  \n",
      " 33  Putin age                    186 non-null    int64  \n",
      " 34  Army                         186 non-null    object \n",
      " 35  Hostel                       186 non-null    object \n",
      " 36  Hair length                  186 non-null    float64\n",
      " 37  Floor number                 186 non-null    int64  \n",
      " 38  Social network duration min  186 non-null    int64  \n",
      " 39  Chocolate                    186 non-null    object \n",
      " 40  City population              186 non-null    float64\n",
      " 41  Strange people               186 non-null    object \n",
      " 42  Your insitute                186 non-null    object \n",
      " 43  Brother-sister               186 non-null    object \n",
      " 44  Plane seat                   186 non-null    object \n",
      " 45  MIddle and index finger      186 non-null    int64  \n",
      " 46  Middle and ring finger       186 non-null    float64\n",
      " 47  Middle and little finger     186 non-null    float64\n",
      "dtypes: float64(7), int64(26), object(15)\n",
      "memory usage: 69.9+ KB\n"
     ]
    }
   ],
   "source": [
    "import seaborn as sns\n",
    "import pandas as pd\n",
    "pd.options.mode.chained_assignment = None\n",
    "df=pd.read_csv(r'C:\\Users\\Я\\Desktop\\читы жизнь\\Study\\Programming\\0_Jupyter\\students.csv')\n",
    "df.info()"
   ]
  },
  {
   "cell_type": "code",
   "execution_count": 7,
   "id": "600967b7",
   "metadata": {},
   "outputs": [
    {
     "data": {
      "text/plain": [
       "<AxesSubplot: xlabel='Putin age'>"
      ]
     },
     "execution_count": 7,
     "metadata": {},
     "output_type": "execute_result"
    },
    {
     "data": {
      "image/png": "[encoded data removed]",
      "text/plain": [
       "<Figure size 640x480 with 1 Axes>"
      ]
     },
     "metadata": {},
     "output_type": "display_data"
    }
   ],
   "source": [
    "sns.boxplot(data=df,x='Putin age')"
   ]
  },
  {
   "cell_type": "code",
   "execution_count": 10,
   "id": "e97ec7fd",
   "metadata": {},
   "outputs": [],
   "source": [
    "a=df['Putin age'].quantile(0.25)\n",
    "b=df['Putin age'].quantile(0.75)"
   ]
  },
  {
   "cell_type": "code",
   "execution_count": 13,
   "id": "4c9ad50a",
   "metadata": {},
   "outputs": [],
   "source": [
    "df_nowAnomalies=df[(df['Putin age']>a-1.5*(b-a))&(df['Putin age']<b+1.5*(b-a))]"
   ]
  },
  {
   "cell_type": "code",
   "execution_count": 14,
   "id": "a7d36815",
   "metadata": {},
   "outputs": [
    {
     "name": "stdout",
     "output_type": "stream",
     "text": [
      "<class 'pandas.core.frame.DataFrame'>\n",
      "Int64Index: 148 entries, 0 to 185\n",
      "Data columns (total 48 columns):\n",
      " #   Column                       Non-Null Count  Dtype  \n",
      "---  ------                       --------------  -----  \n",
      " 0   Age                          148 non-null    int64  \n",
      " 1   Growth                       148 non-null    int64  \n",
      " 2   Shoe size                    148 non-null    int64  \n",
      " 3   Course number                148 non-null    int64  \n",
      " 4   Year of birth                148 non-null    int64  \n",
      " 5   Friend number                148 non-null    int64  \n",
      " 6   Russian rating               148 non-null    int64  \n",
      " 7   Maths rating                 148 non-null    int64  \n",
      " 8   Physics rating               148 non-null    int64  \n",
      " 9   Computer science rating      148 non-null    int64  \n",
      " 10  Chemistry rating             148 non-null    int64  \n",
      " 11  Literature rating            148 non-null    int64  \n",
      " 12  History rating               148 non-null    int64  \n",
      " 13  Geography rating             148 non-null    int64  \n",
      " 14  Biology rating               148 non-null    int64  \n",
      " 15  Foreign language rating      148 non-null    int64  \n",
      " 16  Social science rating        148 non-null    int64  \n",
      " 17  Distance to home km          148 non-null    int64  \n",
      " 18  Minutes to first class       148 non-null    int64  \n",
      " 19  Children number              123 non-null    float64\n",
      " 20  Removed teeth                119 non-null    float64\n",
      " 21  Weight                       126 non-null    float64\n",
      " 22  Glasses                      146 non-null    object \n",
      " 23  Sex                          148 non-null    object \n",
      " 24  Problems in last semester    148 non-null    object \n",
      " 25  Coin                         148 non-null    object \n",
      " 26  Rock paper scissors          148 non-null    object \n",
      " 27  Animal                       148 non-null    object \n",
      " 28  Month of birthday            148 non-null    int64  \n",
      " 29  Your rating in university    148 non-null    object \n",
      " 30  Fastfood                     148 non-null    object \n",
      " 31  Height of 5000 mm            148 non-null    int64  \n",
      " 32  Width of 5000 mm             148 non-null    int64  \n",
      " 33  Putin age                    148 non-null    int64  \n",
      " 34  Army                         148 non-null    object \n",
      " 35  Hostel                       148 non-null    object \n",
      " 36  Hair length                  148 non-null    float64\n",
      " 37  Floor number                 148 non-null    int64  \n",
      " 38  Social network duration min  148 non-null    int64  \n",
      " 39  Chocolate                    148 non-null    object \n",
      " 40  City population              148 non-null    float64\n",
      " 41  Strange people               148 non-null    object \n",
      " 42  Your insitute                148 non-null    object \n",
      " 43  Brother-sister               148 non-null    object \n",
      " 44  Plane seat                   148 non-null    object \n",
      " 45  MIddle and index finger      148 non-null    int64  \n",
      " 46  Middle and ring finger       148 non-null    float64\n",
      " 47  Middle and little finger     148 non-null    float64\n",
      "dtypes: float64(7), int64(26), object(15)\n",
      "memory usage: 56.7+ KB\n"
     ]
    }
   ],
   "source": [
    "df_nowAnomalies.info()"
   ]
  },
  {
   "cell_type": "code",
   "execution_count": 15,
   "id": "b73b935a",
   "metadata": {
    "scrolled": true
   },
   "outputs": [
    {
     "data": {
      "text/plain": [
       "69.0"
      ]
     },
     "execution_count": 15,
     "metadata": {},
     "output_type": "execute_result"
    }
   ],
   "source": [
    "df_nowAnomalies['Putin age'].median()"
   ]
  },
  {
   "cell_type": "markdown",
   "id": "475b6f7a",
   "metadata": {},
   "source": [
    "Среднее значение, отклонение и медиана десяти значений признака Р равны 10, 1.1 (одна целая одна десятая), и 9 соответственно. Какие из следующих значений будут выбросами? Не забудьте в процессе решения проверить симметричность выборки."
   ]
  },
  {
   "cell_type": "code",
   "execution_count": 16,
   "id": "6e29f739",
   "metadata": {},
   "outputs": [
    {
     "data": {
      "text/plain": [
       "(6.7, 13.3)"
      ]
     },
     "execution_count": 16,
     "metadata": {},
     "output_type": "execute_result"
    }
   ],
   "source": [
    "10-3.3,10+3.3"
   ]
  },
  {
   "attachments": {
    "image.png": {
     "image/png": "[encoded data removed]"
    }
   },
   "cell_type": "markdown",
   "id": "062c2b9c",
   "metadata": {},
   "source": [
    "![image.png](attachment:image.png)\n",
    "### Заполните пропуски\n",
    "### В данной задаче выбросы будем искать по следующему правилу: «Выбросом будет считаться объект, у которого суммарное расстояние от него до остальных объектов выборки наибольшее». Таким образом, в указанной таблице выбросом будет (написать имя объекта в виде заглавной латинской буквы): \n",
    "### (при вычислении использовать метрику Манхэттен, нормализацию не проводить), сумма расстояний от него до остальных объектов будет равна:"
   ]
  },
  {
   "cell_type": "code",
   "execution_count": null,
   "id": "0427301f",
   "metadata": {},
   "outputs": [],
   "source": []
  }
 ],
 "metadata": {
  "kernelspec": {
   "display_name": "Python 3 (ipykernel)",
   "language": "python",
   "name": "python3"
  },
  "language_info": {
   "codemirror_mode": {
    "name": "ipython",
    "version": 3
   },
   "file_extension": ".py",
   "mimetype": "text/x-python",
   "name": "python",
   "nbconvert_exporter": "python",
   "pygments_lexer": "ipython3",
   "version": "3.10.8"
  },
  "toc": {
   "base_numbering": 1,
   "nav_menu": {},
   "number_sections": true,
   "sideBar": true,
   "skip_h1_title": false,
   "title_cell": "Table of Contents",
   "title_sidebar": "Contents",
   "toc_cell": false,
   "toc_position": {},
   "toc_section_display": true,
   "toc_window_display": false
  }
 },
 "nbformat": 4,
 "nbformat_minor": 5
}
