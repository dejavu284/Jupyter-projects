{
 "cells": [
  {
   "cell_type": "code",
   "execution_count": 197,
   "id": "5b4c65ee",
   "metadata": {},
   "outputs": [],
   "source": [
    "import pandas as pd\n",
    "pd.options.mode.chained_assignment = None\n",
    "df=pd.read_csv(r'C:\\Users\\Я\\Desktop\\читы жизнь\\Study\\Programming\\0_Jupyter\\students.csv',delimiter=',')"
   ]
  },
  {
   "cell_type": "code",
   "execution_count": 198,
   "id": "ca07051d",
   "metadata": {},
   "outputs": [],
   "source": [
    "df_cut=df[['Age','Growth','Weight']]\n",
    "df_cut['Mass index']=df_cut['Weight']/((df_cut['Growth']/100)**2)"
   ]
  },
  {
   "cell_type": "markdown",
   "id": "7f608aa0",
   "metadata": {},
   "source": [
    "Коэффициент корреляции расчитывается по команде: .corr()\n",
    "Пример:\n",
    "df_cut.corr()"
   ]
  },
  {
   "cell_type": "code",
   "execution_count": 199,
   "id": "7a71bebc",
   "metadata": {},
   "outputs": [
    {
     "data": {
      "text/html": [
       "<div>\n",
       "<style scoped>\n",
       "    .dataframe tbody tr th:only-of-type {\n",
       "        vertical-align: middle;\n",
       "    }\n",
       "\n",
       "    .dataframe tbody tr th {\n",
       "        vertical-align: top;\n",
       "    }\n",
       "\n",
       "    .dataframe thead th {\n",
       "        text-align: right;\n",
       "    }\n",
       "</style>\n",
       "<table border=\"1\" class=\"dataframe\">\n",
       "  <thead>\n",
       "    <tr style=\"text-align: right;\">\n",
       "      <th></th>\n",
       "      <th>Age</th>\n",
       "      <th>Growth</th>\n",
       "      <th>Weight</th>\n",
       "      <th>Mass index</th>\n",
       "    </tr>\n",
       "  </thead>\n",
       "  <tbody>\n",
       "    <tr>\n",
       "      <th>Age</th>\n",
       "      <td>1.000000</td>\n",
       "      <td>-0.101982</td>\n",
       "      <td>-0.185722</td>\n",
       "      <td>-0.200305</td>\n",
       "    </tr>\n",
       "    <tr>\n",
       "      <th>Growth</th>\n",
       "      <td>-0.101982</td>\n",
       "      <td>1.000000</td>\n",
       "      <td>0.544528</td>\n",
       "      <td>0.146201</td>\n",
       "    </tr>\n",
       "    <tr>\n",
       "      <th>Weight</th>\n",
       "      <td>-0.185722</td>\n",
       "      <td>0.544528</td>\n",
       "      <td>1.000000</td>\n",
       "      <td>0.904678</td>\n",
       "    </tr>\n",
       "    <tr>\n",
       "      <th>Mass index</th>\n",
       "      <td>-0.200305</td>\n",
       "      <td>0.146201</td>\n",
       "      <td>0.904678</td>\n",
       "      <td>1.000000</td>\n",
       "    </tr>\n",
       "  </tbody>\n",
       "</table>\n",
       "</div>"
      ],
      "text/plain": [
       "                 Age    Growth    Weight  Mass index\n",
       "Age         1.000000 -0.101982 -0.185722   -0.200305\n",
       "Growth     -0.101982  1.000000  0.544528    0.146201\n",
       "Weight     -0.185722  0.544528  1.000000    0.904678\n",
       "Mass index -0.200305  0.146201  0.904678    1.000000"
      ]
     },
     "execution_count": 199,
     "metadata": {},
     "output_type": "execute_result"
    }
   ],
   "source": [
    "df_cut.corr()"
   ]
  },
  {
   "cell_type": "code",
   "execution_count": 200,
   "id": "bec5b319",
   "metadata": {},
   "outputs": [
    {
     "data": {
      "text/html": [
       "<div>\n",
       "<style scoped>\n",
       "    .dataframe tbody tr th:only-of-type {\n",
       "        vertical-align: middle;\n",
       "    }\n",
       "\n",
       "    .dataframe tbody tr th {\n",
       "        vertical-align: top;\n",
       "    }\n",
       "\n",
       "    .dataframe thead th {\n",
       "        text-align: right;\n",
       "    }\n",
       "</style>\n",
       "<table border=\"1\" class=\"dataframe\">\n",
       "  <thead>\n",
       "    <tr style=\"text-align: right;\">\n",
       "      <th></th>\n",
       "      <th>Growth</th>\n",
       "      <th>Weight</th>\n",
       "    </tr>\n",
       "    <tr>\n",
       "      <th>Sex</th>\n",
       "      <th></th>\n",
       "      <th></th>\n",
       "    </tr>\n",
       "  </thead>\n",
       "  <tbody>\n",
       "    <tr>\n",
       "      <th>женский</th>\n",
       "      <td>5.701190</td>\n",
       "      <td>13.642451</td>\n",
       "    </tr>\n",
       "    <tr>\n",
       "      <th>мужской</th>\n",
       "      <td>6.864931</td>\n",
       "      <td>17.717777</td>\n",
       "    </tr>\n",
       "  </tbody>\n",
       "</table>\n",
       "</div>"
      ],
      "text/plain": [
       "           Growth     Weight\n",
       "Sex                         \n",
       "женский  5.701190  13.642451\n",
       "мужской  6.864931  17.717777"
      ]
     },
     "execution_count": 200,
     "metadata": {},
     "output_type": "execute_result"
    }
   ],
   "source": [
    "df.groupby(['Sex'])[['Growth','Weight']].std()"
   ]
  },
  {
   "cell_type": "code",
   "execution_count": 201,
   "id": "1ae9a500",
   "metadata": {},
   "outputs": [
    {
     "data": {
      "text/html": [
       "<div>\n",
       "<style scoped>\n",
       "    .dataframe tbody tr th:only-of-type {\n",
       "        vertical-align: middle;\n",
       "    }\n",
       "\n",
       "    .dataframe tbody tr th {\n",
       "        vertical-align: top;\n",
       "    }\n",
       "\n",
       "    .dataframe thead th {\n",
       "        text-align: right;\n",
       "    }\n",
       "</style>\n",
       "<table border=\"1\" class=\"dataframe\">\n",
       "  <thead>\n",
       "    <tr style=\"text-align: right;\">\n",
       "      <th></th>\n",
       "      <th>Growth</th>\n",
       "      <th>Weight</th>\n",
       "    </tr>\n",
       "    <tr>\n",
       "      <th>Sex</th>\n",
       "      <th></th>\n",
       "      <th></th>\n",
       "    </tr>\n",
       "  </thead>\n",
       "  <tbody>\n",
       "    <tr>\n",
       "      <th>женский</th>\n",
       "      <td>5.701190</td>\n",
       "      <td>13.642451</td>\n",
       "    </tr>\n",
       "    <tr>\n",
       "      <th>мужской</th>\n",
       "      <td>6.864931</td>\n",
       "      <td>17.717777</td>\n",
       "    </tr>\n",
       "  </tbody>\n",
       "</table>\n",
       "</div>"
      ],
      "text/plain": [
       "           Growth     Weight\n",
       "Sex                         \n",
       "женский  5.701190  13.642451\n",
       "мужской  6.864931  17.717777"
      ]
     },
     "execution_count": 201,
     "metadata": {},
     "output_type": "execute_result"
    }
   ],
   "source": [
    "df.groupby(['Sex'])[['Growth','Weight']].std()"
   ]
  },
  {
   "cell_type": "code",
   "execution_count": 202,
   "id": "e8e943c8",
   "metadata": {},
   "outputs": [
    {
     "data": {
      "text/html": [
       "<div>\n",
       "<style scoped>\n",
       "    .dataframe tbody tr th:only-of-type {\n",
       "        vertical-align: middle;\n",
       "    }\n",
       "\n",
       "    .dataframe tbody tr th {\n",
       "        vertical-align: top;\n",
       "    }\n",
       "\n",
       "    .dataframe thead th {\n",
       "        text-align: right;\n",
       "    }\n",
       "</style>\n",
       "<table border=\"1\" class=\"dataframe\">\n",
       "  <thead>\n",
       "    <tr style=\"text-align: right;\">\n",
       "      <th></th>\n",
       "      <th>Russian rating</th>\n",
       "      <th>Maths rating</th>\n",
       "    </tr>\n",
       "    <tr>\n",
       "      <th>Chocolate</th>\n",
       "      <th></th>\n",
       "      <th></th>\n",
       "    </tr>\n",
       "  </thead>\n",
       "  <tbody>\n",
       "    <tr>\n",
       "      <th>M&amp;Ms</th>\n",
       "      <td>81.000000</td>\n",
       "      <td>61.000000</td>\n",
       "    </tr>\n",
       "    <tr>\n",
       "      <th>Баунти</th>\n",
       "      <td>80.433333</td>\n",
       "      <td>59.433333</td>\n",
       "    </tr>\n",
       "    <tr>\n",
       "      <th>КитКат</th>\n",
       "      <td>81.885714</td>\n",
       "      <td>58.114286</td>\n",
       "    </tr>\n",
       "    <tr>\n",
       "      <th>Марс</th>\n",
       "      <td>88.636364</td>\n",
       "      <td>45.181818</td>\n",
       "    </tr>\n",
       "    <tr>\n",
       "      <th>Милки Вей</th>\n",
       "      <td>77.588235</td>\n",
       "      <td>50.117647</td>\n",
       "    </tr>\n",
       "    <tr>\n",
       "      <th>Натс</th>\n",
       "      <td>82.461538</td>\n",
       "      <td>56.615385</td>\n",
       "    </tr>\n",
       "    <tr>\n",
       "      <th>Скиттлс (хотя это и не шоколадка)</th>\n",
       "      <td>85.000000</td>\n",
       "      <td>72.000000</td>\n",
       "    </tr>\n",
       "    <tr>\n",
       "      <th>Сникерс</th>\n",
       "      <td>78.941176</td>\n",
       "      <td>60.235294</td>\n",
       "    </tr>\n",
       "    <tr>\n",
       "      <th>Твикс</th>\n",
       "      <td>84.323529</td>\n",
       "      <td>61.617647</td>\n",
       "    </tr>\n",
       "  </tbody>\n",
       "</table>\n",
       "</div>"
      ],
      "text/plain": [
       "                                   Russian rating  Maths rating\n",
       "Chocolate                                                      \n",
       "M&Ms                                    81.000000     61.000000\n",
       "Баунти                                  80.433333     59.433333\n",
       "КитКат                                  81.885714     58.114286\n",
       "Марс                                    88.636364     45.181818\n",
       "Милки Вей                               77.588235     50.117647\n",
       "Натс                                    82.461538     56.615385\n",
       "Скиттлс (хотя это и не шоколадка)       85.000000     72.000000\n",
       "Сникерс                                 78.941176     60.235294\n",
       "Твикс                                   84.323529     61.617647"
      ]
     },
     "execution_count": 202,
     "metadata": {},
     "output_type": "execute_result"
    }
   ],
   "source": [
    "df.groupby(['Chocolate'])[['Russian rating','Maths rating']].mean()"
   ]
  },
  {
   "cell_type": "code",
   "execution_count": 203,
   "id": "2d8c6fcc",
   "metadata": {},
   "outputs": [],
   "source": [
    "df_Exams=df[['Maths rating','Russian rating']].copy()"
   ]
  },
  {
   "cell_type": "code",
   "execution_count": 204,
   "id": "5f768487",
   "metadata": {},
   "outputs": [
    {
     "data": {
      "text/plain": [
       "Maths rating      24\n",
       "Russian rating    24\n",
       "dtype: int64"
      ]
     },
     "execution_count": 204,
     "metadata": {},
     "output_type": "execute_result"
    }
   ],
   "source": [
    "df_Exams[(df_Exams['Russian rating']>=50)&(df['Russian rating']<=70)].count()"
   ]
  },
  {
   "cell_type": "markdown",
   "id": "e4701fa8",
   "metadata": {},
   "source": [
    "# Задание 1\n",
    "### Из имеющейся таблицы с анкетами наших студентов создайте \"обрезанную таблицу\" df_cut, состоящую из столбцов \"Год рождения\", \"Рост\", \"Вес\", \"Длина волос\", \"Размер обуви\".\n",
    "\n",
    "### Отсортируйте таблицу по возрастанию признака \"Размер обуви\". В ответ напишите год рождения студента, попавшего в первую строку отсортированной таблицы.\n",
    "\n",
    "### П.С. Вы тоже офигеваете, когда оказывается, что люди, родившиеся в 21-м веке, уже учатся в универе?"
   ]
  },
  {
   "cell_type": "code",
   "execution_count": 205,
   "id": "4682ba30",
   "metadata": {
    "scrolled": true
   },
   "outputs": [
    {
     "data": {
      "text/html": [
       "<div>\n",
       "<style scoped>\n",
       "    .dataframe tbody tr th:only-of-type {\n",
       "        vertical-align: middle;\n",
       "    }\n",
       "\n",
       "    .dataframe tbody tr th {\n",
       "        vertical-align: top;\n",
       "    }\n",
       "\n",
       "    .dataframe thead th {\n",
       "        text-align: right;\n",
       "    }\n",
       "</style>\n",
       "<table border=\"1\" class=\"dataframe\">\n",
       "  <thead>\n",
       "    <tr style=\"text-align: right;\">\n",
       "      <th></th>\n",
       "      <th>Year of birth</th>\n",
       "      <th>Growth</th>\n",
       "      <th>Weight</th>\n",
       "      <th>Hair length</th>\n",
       "      <th>Shoe size</th>\n",
       "    </tr>\n",
       "  </thead>\n",
       "  <tbody>\n",
       "    <tr>\n",
       "      <th>7</th>\n",
       "      <td>2003</td>\n",
       "      <td>180</td>\n",
       "      <td>120.0</td>\n",
       "      <td>20.0</td>\n",
       "      <td>48</td>\n",
       "    </tr>\n",
       "    <tr>\n",
       "      <th>27</th>\n",
       "      <td>2003</td>\n",
       "      <td>193</td>\n",
       "      <td>61.0</td>\n",
       "      <td>3.0</td>\n",
       "      <td>48</td>\n",
       "    </tr>\n",
       "    <tr>\n",
       "      <th>8</th>\n",
       "      <td>2002</td>\n",
       "      <td>185</td>\n",
       "      <td>69.0</td>\n",
       "      <td>25.0</td>\n",
       "      <td>46</td>\n",
       "    </tr>\n",
       "    <tr>\n",
       "      <th>103</th>\n",
       "      <td>2002</td>\n",
       "      <td>197</td>\n",
       "      <td>100.0</td>\n",
       "      <td>23.0</td>\n",
       "      <td>46</td>\n",
       "    </tr>\n",
       "    <tr>\n",
       "      <th>55</th>\n",
       "      <td>1999</td>\n",
       "      <td>180</td>\n",
       "      <td>92.0</td>\n",
       "      <td>0.2</td>\n",
       "      <td>45</td>\n",
       "    </tr>\n",
       "  </tbody>\n",
       "</table>\n",
       "</div>"
      ],
      "text/plain": [
       "     Year of birth  Growth  Weight  Hair length  Shoe size\n",
       "7             2003     180   120.0         20.0         48\n",
       "27            2003     193    61.0          3.0         48\n",
       "8             2002     185    69.0         25.0         46\n",
       "103           2002     197   100.0         23.0         46\n",
       "55            1999     180    92.0          0.2         45"
      ]
     },
     "execution_count": 205,
     "metadata": {},
     "output_type": "execute_result"
    }
   ],
   "source": [
    "df_cut_new=df[['Year of birth','Growth','Weight','Hair length','Shoe size']]\n",
    "df_cut_new.sort_values(['Shoe size','Growth'],ascending=[False,True]).head()"
   ]
  },
  {
   "cell_type": "code",
   "execution_count": 223,
   "id": "ac28b3c3",
   "metadata": {
    "scrolled": true
   },
   "outputs": [
    {
     "data": {
      "text/plain": [
       "Year of birth    2003.0\n",
       "Growth            193.0\n",
       "Weight             61.0\n",
       "Hair length         3.0\n",
       "Shoe size          48.0\n",
       "Name: 27, dtype: float64"
      ]
     },
     "execution_count": 223,
     "metadata": {},
     "output_type": "execute_result"
    }
   ],
   "source": [
    "df_cut = df[['Year of birth', 'Growth', 'Weight', 'Hair length', 'Shoe size']]\n",
    "df_cut.sort_values(['Shoe size', 'Growth'], ascending=[False,True]).iloc[1]"
   ]
  },
  {
   "cell_type": "code",
   "execution_count": 225,
   "id": "f9cd60d3",
   "metadata": {},
   "outputs": [
    {
     "data": {
      "text/html": [
       "<div>\n",
       "<style scoped>\n",
       "    .dataframe tbody tr th:only-of-type {\n",
       "        vertical-align: middle;\n",
       "    }\n",
       "\n",
       "    .dataframe tbody tr th {\n",
       "        vertical-align: top;\n",
       "    }\n",
       "\n",
       "    .dataframe thead th {\n",
       "        text-align: right;\n",
       "    }\n",
       "</style>\n",
       "<table border=\"1\" class=\"dataframe\">\n",
       "  <thead>\n",
       "    <tr style=\"text-align: right;\">\n",
       "      <th></th>\n",
       "      <th>Year of birth</th>\n",
       "      <th>Growth</th>\n",
       "      <th>Weight</th>\n",
       "      <th>Hair length</th>\n",
       "      <th>Shoe size</th>\n",
       "    </tr>\n",
       "  </thead>\n",
       "  <tbody>\n",
       "    <tr>\n",
       "      <th>Year of birth</th>\n",
       "      <td>1.000000</td>\n",
       "      <td>-0.113357</td>\n",
       "      <td>0.006042</td>\n",
       "      <td>0.095402</td>\n",
       "      <td>-0.108360</td>\n",
       "    </tr>\n",
       "    <tr>\n",
       "      <th>Growth</th>\n",
       "      <td>-0.113357</td>\n",
       "      <td>1.000000</td>\n",
       "      <td>0.544528</td>\n",
       "      <td>-0.554408</td>\n",
       "      <td>0.863252</td>\n",
       "    </tr>\n",
       "    <tr>\n",
       "      <th>Weight</th>\n",
       "      <td>0.006042</td>\n",
       "      <td>0.544528</td>\n",
       "      <td>1.000000</td>\n",
       "      <td>-0.319416</td>\n",
       "      <td>0.591149</td>\n",
       "    </tr>\n",
       "    <tr>\n",
       "      <th>Hair length</th>\n",
       "      <td>0.095402</td>\n",
       "      <td>-0.554408</td>\n",
       "      <td>-0.319416</td>\n",
       "      <td>1.000000</td>\n",
       "      <td>-0.567568</td>\n",
       "    </tr>\n",
       "    <tr>\n",
       "      <th>Shoe size</th>\n",
       "      <td>-0.108360</td>\n",
       "      <td>0.863252</td>\n",
       "      <td>0.591149</td>\n",
       "      <td>-0.567568</td>\n",
       "      <td>1.000000</td>\n",
       "    </tr>\n",
       "  </tbody>\n",
       "</table>\n",
       "</div>"
      ],
      "text/plain": [
       "               Year of birth    Growth    Weight  Hair length  Shoe size\n",
       "Year of birth       1.000000 -0.113357  0.006042     0.095402  -0.108360\n",
       "Growth             -0.113357  1.000000  0.544528    -0.554408   0.863252\n",
       "Weight              0.006042  0.544528  1.000000    -0.319416   0.591149\n",
       "Hair length         0.095402 -0.554408 -0.319416     1.000000  -0.567568\n",
       "Shoe size          -0.108360  0.863252  0.591149    -0.567568   1.000000"
      ]
     },
     "execution_count": 225,
     "metadata": {},
     "output_type": "execute_result"
    }
   ],
   "source": [
    "# Выведите на экран таблицу со значениями коэффициента корреляции (КК). \n",
    "\n",
    "# Чему равен КК для признаков \"Рост\" и \"Размер обуви\"? Ответ округлить до двух знаков после запятой\n",
    "df_cut.corr()"
   ]
  },
  {
   "cell_type": "code",
   "execution_count": 207,
   "id": "d0c913e0",
   "metadata": {},
   "outputs": [
    {
     "name": "stdout",
     "output_type": "stream",
     "text": [
      "347.0\n"
     ]
    }
   ],
   "source": [
    "max_full_length=df['Growth'].max()+df['Hair length'].max()\n",
    "print(max_full_length)"
   ]
  },
  {
   "cell_type": "code",
   "execution_count": 208,
   "id": "ad611480",
   "metadata": {},
   "outputs": [],
   "source": [
    "new_max_full_length_df=df[df['Growth']==df['Growth'].max()]"
   ]
  },
  {
   "cell_type": "code",
   "execution_count": 209,
   "id": "e06cda19",
   "metadata": {},
   "outputs": [
    {
     "name": "stdout",
     "output_type": "stream",
     "text": [
      "197\n",
      "23.0\n",
      "220.0\n"
     ]
    }
   ],
   "source": [
    "max_Growth = df['Growth'].max()\n",
    "hair_who_max_Growth=new_max_full_length_df['Hair length'].iloc[0]\n",
    "new_max_full_length=hair_who_max_Growth+max_Growth\n",
    "print(max_Growth)\n",
    "print(hair_who_max_Growth)\n",
    "print(new_max_full_length)"
   ]
  },
  {
   "cell_type": "code",
   "execution_count": 210,
   "id": "c93d9e75",
   "metadata": {},
   "outputs": [
    {
     "data": {
      "text/html": [
       "<div>\n",
       "<style scoped>\n",
       "    .dataframe tbody tr th:only-of-type {\n",
       "        vertical-align: middle;\n",
       "    }\n",
       "\n",
       "    .dataframe tbody tr th {\n",
       "        vertical-align: top;\n",
       "    }\n",
       "\n",
       "    .dataframe thead th {\n",
       "        text-align: right;\n",
       "    }\n",
       "</style>\n",
       "<table border=\"1\" class=\"dataframe\">\n",
       "  <thead>\n",
       "    <tr style=\"text-align: right;\">\n",
       "      <th></th>\n",
       "      <th>Growth</th>\n",
       "      <th>Hair length</th>\n",
       "    </tr>\n",
       "  </thead>\n",
       "  <tbody>\n",
       "    <tr>\n",
       "      <th>184</th>\n",
       "      <td>169</td>\n",
       "      <td>150.0</td>\n",
       "    </tr>\n",
       "  </tbody>\n",
       "</table>\n",
       "</div>"
      ],
      "text/plain": [
       "     Growth  Hair length\n",
       "184     169        150.0"
      ]
     },
     "execution_count": 210,
     "metadata": {},
     "output_type": "execute_result"
    }
   ],
   "source": [
    "max_hair_length=df[df['Hair length']==df['Hair length'].max()]\n",
    "max_hair_length[['Growth','Hair length']]"
   ]
  },
  {
   "cell_type": "code",
   "execution_count": 211,
   "id": "21d606e9",
   "metadata": {},
   "outputs": [
    {
     "data": {
      "text/plain": [
       "319.0"
      ]
     },
     "execution_count": 211,
     "metadata": {},
     "output_type": "execute_result"
    }
   ],
   "source": [
    "max_hair_length['Growth'].iloc[0]+max_hair_length['Hair length'].iloc[0]"
   ]
  },
  {
   "cell_type": "code",
   "execution_count": 212,
   "id": "64e67d5e",
   "metadata": {},
   "outputs": [],
   "source": [
    "ThreeColumns=df[['Growth','Hair length']]"
   ]
  },
  {
   "cell_type": "code",
   "execution_count": 219,
   "id": "189bec60",
   "metadata": {},
   "outputs": [],
   "source": [
    "ThreeColumns['Full length']=ThreeColumns['Growth']+ThreeColumns['Hair length']"
   ]
  },
  {
   "cell_type": "code",
   "execution_count": 222,
   "id": "2f3729ac",
   "metadata": {},
   "outputs": [
    {
     "data": {
      "text/plain": [
       "0      220.0\n",
       "1      198.0\n",
       "2      176.0\n",
       "3      188.0\n",
       "4      214.0\n",
       "       ...  \n",
       "181    198.0\n",
       "182    214.0\n",
       "183    201.0\n",
       "184    319.0\n",
       "185    224.0\n",
       "Name: Full length, Length: 186, dtype: float64"
      ]
     },
     "execution_count": 222,
     "metadata": {},
     "output_type": "execute_result"
    }
   ],
   "source": [
    "ThreeColumns['Full length']."
   ]
  },
  {
   "cell_type": "code",
   "execution_count": 228,
   "id": "15ee0d00",
   "metadata": {},
   "outputs": [
    {
     "data": {
      "text/html": [
       "<div>\n",
       "<style scoped>\n",
       "    .dataframe tbody tr th:only-of-type {\n",
       "        vertical-align: middle;\n",
       "    }\n",
       "\n",
       "    .dataframe tbody tr th {\n",
       "        vertical-align: top;\n",
       "    }\n",
       "\n",
       "    .dataframe thead th {\n",
       "        text-align: right;\n",
       "    }\n",
       "</style>\n",
       "<table border=\"1\" class=\"dataframe\">\n",
       "  <thead>\n",
       "    <tr style=\"text-align: right;\">\n",
       "      <th></th>\n",
       "      <th>Russian rating</th>\n",
       "      <th>Maths rating</th>\n",
       "    </tr>\n",
       "    <tr>\n",
       "      <th>Glasses</th>\n",
       "      <th></th>\n",
       "      <th></th>\n",
       "    </tr>\n",
       "  </thead>\n",
       "  <tbody>\n",
       "    <tr>\n",
       "      <th>да</th>\n",
       "      <td>83.388235</td>\n",
       "      <td>56.741176</td>\n",
       "    </tr>\n",
       "    <tr>\n",
       "      <th>нет</th>\n",
       "      <td>80.471910</td>\n",
       "      <td>59.955056</td>\n",
       "    </tr>\n",
       "    <tr>\n",
       "      <th>простите. не увидел(а) вопроса ))))</th>\n",
       "      <td>77.900000</td>\n",
       "      <td>54.700000</td>\n",
       "    </tr>\n",
       "  </tbody>\n",
       "</table>\n",
       "</div>"
      ],
      "text/plain": [
       "                                     Russian rating  Maths rating\n",
       "Glasses                                                          \n",
       "да                                        83.388235     56.741176\n",
       "нет                                       80.471910     59.955056\n",
       "простите. не увидел(а) вопроса ))))       77.900000     54.700000"
      ]
     },
     "execution_count": 228,
     "metadata": {},
     "output_type": "execute_result"
    }
   ],
   "source": [
    "# С помощью метода-молитвы groupby сделайте так, чтобы на экран вывелась табличка (числа в ней - это средние баллы за ЕГЭ)\n",
    "\n",
    "# Чему равно заштрихованное число? Округлить до одного знака после запятой.\n",
    "\n",
    "Glas_Rus_Math=df.groupby(['Glasses'])[['Russian rating','Maths rating']].mean()\n",
    "Glas_Rus_Math"
   ]
  },
  {
   "cell_type": "code",
   "execution_count": 229,
   "id": "deef7cef",
   "metadata": {},
   "outputs": [
    {
     "data": {
      "text/html": [
       "<div>\n",
       "<style scoped>\n",
       "    .dataframe tbody tr th:only-of-type {\n",
       "        vertical-align: middle;\n",
       "    }\n",
       "\n",
       "    .dataframe tbody tr th {\n",
       "        vertical-align: top;\n",
       "    }\n",
       "\n",
       "    .dataframe thead th {\n",
       "        text-align: right;\n",
       "    }\n",
       "</style>\n",
       "<table border=\"1\" class=\"dataframe\">\n",
       "  <thead>\n",
       "    <tr style=\"text-align: right;\">\n",
       "      <th></th>\n",
       "      <th>Russian rating</th>\n",
       "      <th>Maths rating</th>\n",
       "    </tr>\n",
       "    <tr>\n",
       "      <th>Rock paper scissors</th>\n",
       "      <th></th>\n",
       "      <th></th>\n",
       "    </tr>\n",
       "  </thead>\n",
       "  <tbody>\n",
       "    <tr>\n",
       "      <th>Бумага</th>\n",
       "      <td>76.473684</td>\n",
       "      <td>52.894737</td>\n",
       "    </tr>\n",
       "    <tr>\n",
       "      <th>Камень</th>\n",
       "      <td>81.450000</td>\n",
       "      <td>62.166667</td>\n",
       "    </tr>\n",
       "    <tr>\n",
       "      <th>Ножницы</th>\n",
       "      <td>83.988636</td>\n",
       "      <td>57.738636</td>\n",
       "    </tr>\n",
       "  </tbody>\n",
       "</table>\n",
       "</div>"
      ],
      "text/plain": [
       "                     Russian rating  Maths rating\n",
       "Rock paper scissors                              \n",
       "Бумага                    76.473684     52.894737\n",
       "Камень                    81.450000     62.166667\n",
       "Ножницы                   83.988636     57.738636"
      ]
     },
     "execution_count": 229,
     "metadata": {},
     "output_type": "execute_result"
    }
   ],
   "source": [
    "# С помощью метода groupby выведите на экран табличку (числа в ней - это средние баллы за ЕГЭ):\n",
    "s\n",
    "# Чему равно заштрихованное число? Ответ округлить до двух знаков после запятой.\n",
    "RPS_Rus_Math=df.groupby(['Rock paper scissors'])[['Russian rating','Maths rating']].mean()\n",
    "RPS_Rus_Math"
   ]
  },
  {
   "cell_type": "code",
   "execution_count": null,
   "id": "e9d717ac",
   "metadata": {},
   "outputs": [],
   "source": []
  }
 ],
 "metadata": {
  "kernelspec": {
   "display_name": "Python 3 (ipykernel)",
   "language": "python",
   "name": "python3"
  },
  "language_info": {
   "codemirror_mode": {
    "name": "ipython",
    "version": 3
   },
   "file_extension": ".py",
   "mimetype": "text/x-python",
   "name": "python",
   "nbconvert_exporter": "python",
   "pygments_lexer": "ipython3",
   "version": "3.10.8"
  }
 },
 "nbformat": 4,
 "nbformat_minor": 5
}
