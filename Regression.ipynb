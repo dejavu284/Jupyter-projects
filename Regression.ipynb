{
 "cells": [
  {
   "cell_type": "code",
   "execution_count": 15,
   "id": "0b4e1122",
   "metadata": {},
   "outputs": [],
   "source": [
    "import seaborn as sns\n",
    "from sklearn.linear_model import LinearRegression\n",
    "import warnings\n",
    "warnings.filterwarnings(\"ignore\")\n",
    "import pandas as pd\n",
    "pd.options.mode.chained_assignment = None\n",
    "df=pd.read_csv(r'C:\\Users\\Я\\Desktop\\читы жизнь\\Study\\Programming\\0_Jupyter\\students.csv')\n",
    "df_test=pd.read_csv(r'C:\\Users\\Я\\Desktop\\читы жизнь\\Study\\Programming\\0_Jupyter\\students_test.csv')"
   ]
  },
  {
   "cell_type": "code",
   "execution_count": 2,
   "id": "80524d25",
   "metadata": {},
   "outputs": [
    {
     "name": "stdout",
     "output_type": "stream",
     "text": [
      "<class 'pandas.core.frame.DataFrame'>\n",
      "RangeIndex: 186 entries, 0 to 185\n",
      "Data columns (total 2 columns):\n",
      " #   Column     Non-Null Count  Dtype\n",
      "---  ------     --------------  -----\n",
      " 0   Growth     186 non-null    int64\n",
      " 1   Shoe size  186 non-null    int64\n",
      "dtypes: int64(2)\n",
      "memory usage: 3.0 KB\n"
     ]
    }
   ],
   "source": [
    "df_cut=df[['Growth','Shoe size']]\n",
    "df_cut=df_cut.dropna()\n",
    "df_cut.info()"
   ]
  },
  {
   "cell_type": "code",
   "execution_count": 3,
   "id": "75e6b0b1",
   "metadata": {},
   "outputs": [
    {
     "data": {
      "text/plain": [
       "<AxesSubplot: xlabel='Growth', ylabel='Shoe size'>"
      ]
     },
     "execution_count": 3,
     "metadata": {},
     "output_type": "execute_result"
    },
    {
     "data": {
      "image/png": "[encoded data removed]",
      "text/plain": [
       "<Figure size 640x480 with 1 Axes>"
      ]
     },
     "metadata": {},
     "output_type": "display_data"
    }
   ],
   "source": [
    "sns.scatterplot(data=df_cut,x='Growth',y='Shoe size')"
   ]
  },
  {
   "cell_type": "markdown",
   "id": "40bb6a78",
   "metadata": {},
   "source": [
    "рост человека линейно зависит от размера обуви"
   ]
  },
  {
   "cell_type": "code",
   "execution_count": 4,
   "id": "acf6c4e6",
   "metadata": {},
   "outputs": [],
   "source": [
    "linearRegression=LinearRegression()"
   ]
  },
  {
   "cell_type": "code",
   "execution_count": 5,
   "id": "ce7fc737",
   "metadata": {},
   "outputs": [],
   "source": [
    "result=linearRegression.fit(df_cut['Shoe size'].values.reshape(-1,1),df_cut['Growth'].values)"
   ]
  },
  {
   "cell_type": "code",
   "execution_count": 6,
   "id": "e45824d9",
   "metadata": {},
   "outputs": [],
   "source": [
    "df_cut['Predicted Growth']=result.predict(df_cut['Shoe size'].values.reshape(-1,1))"
   ]
  },
  {
   "cell_type": "markdown",
   "id": "33ed446f",
   "metadata": {},
   "source": [
    "# Разделим данные на тестовую и тренировочную выборку\n",
    "## Натренируем алгоритм на тренировочной выборке\n",
    "## Проверим его работу на тестовой выборке"
   ]
  },
  {
   "cell_type": "code",
   "execution_count": 7,
   "id": "f4a4ce0b",
   "metadata": {},
   "outputs": [],
   "source": [
    "import numpy as np\n",
    "from sklearn.model_selection import train_test_split"
   ]
  },
  {
   "cell_type": "code",
   "execution_count": 8,
   "id": "afcb9550",
   "metadata": {},
   "outputs": [],
   "source": [
    "X=df_cut['Shoe size'].values.reshape(-1,1)\n",
    "y=df_cut['Growth'].values\n",
    "X_train, X_test, y_train, y_test = train_test_split(X, y, test_size=0.33, random_state=42)"
   ]
  },
  {
   "cell_type": "code",
   "execution_count": 9,
   "id": "e7fbc5a0",
   "metadata": {},
   "outputs": [],
   "source": [
    "Algorithm=linearRegression.fit(X_train,y_train)"
   ]
  },
  {
   "cell_type": "code",
   "execution_count": 10,
   "id": "33eb0ba4",
   "metadata": {},
   "outputs": [],
   "source": [
    "df_test=pd.DataFrame({})\n",
    "df_test['True Growth']=y_test\n",
    "df_test['Mabe Growth']=Algorithm.predict(X_test)"
   ]
  },
  {
   "cell_type": "code",
   "execution_count": 11,
   "id": "297c4791",
   "metadata": {},
   "outputs": [],
   "source": [
    "df_prod=pd.DataFrame({})\n",
    "#df_prod=df_prod.append([[43]], ignore_index = True)"
   ]
  },
  {
   "cell_type": "code",
   "execution_count": 12,
   "id": "767fb44d",
   "metadata": {},
   "outputs": [
    {
     "data": {
      "text/html": [
       "<div>\n",
       "<style scoped>\n",
       "    .dataframe tbody tr th:only-of-type {\n",
       "        vertical-align: middle;\n",
       "    }\n",
       "\n",
       "    .dataframe tbody tr th {\n",
       "        vertical-align: top;\n",
       "    }\n",
       "\n",
       "    .dataframe thead th {\n",
       "        text-align: right;\n",
       "    }\n",
       "</style>\n",
       "<table border=\"1\" class=\"dataframe\">\n",
       "  <thead>\n",
       "    <tr style=\"text-align: right;\">\n",
       "      <th></th>\n",
       "      <th>Shoe size</th>\n",
       "    </tr>\n",
       "  </thead>\n",
       "  <tbody>\n",
       "    <tr>\n",
       "      <th>0</th>\n",
       "      <td>36</td>\n",
       "    </tr>\n",
       "  </tbody>\n",
       "</table>\n",
       "</div>"
      ],
      "text/plain": [
       "   Shoe size\n",
       "0         36"
      ]
     },
     "execution_count": 12,
     "metadata": {},
     "output_type": "execute_result"
    }
   ],
   "source": [
    "df_prod['Shoe size']=[36]\n",
    "df_prod"
   ]
  },
  {
   "cell_type": "code",
   "execution_count": 13,
   "id": "a54aef59",
   "metadata": {},
   "outputs": [
    {
     "data": {
      "text/html": [
       "<div>\n",
       "<style scoped>\n",
       "    .dataframe tbody tr th:only-of-type {\n",
       "        vertical-align: middle;\n",
       "    }\n",
       "\n",
       "    .dataframe tbody tr th {\n",
       "        vertical-align: top;\n",
       "    }\n",
       "\n",
       "    .dataframe thead th {\n",
       "        text-align: right;\n",
       "    }\n",
       "</style>\n",
       "<table border=\"1\" class=\"dataframe\">\n",
       "  <thead>\n",
       "    <tr style=\"text-align: right;\">\n",
       "      <th></th>\n",
       "      <th>Shoe size</th>\n",
       "      <th>My Growth</th>\n",
       "    </tr>\n",
       "  </thead>\n",
       "  <tbody>\n",
       "    <tr>\n",
       "      <th>0</th>\n",
       "      <td>36</td>\n",
       "      <td>160.145733</td>\n",
       "    </tr>\n",
       "  </tbody>\n",
       "</table>\n",
       "</div>"
      ],
      "text/plain": [
       "   Shoe size   My Growth\n",
       "0         36  160.145733"
      ]
     },
     "execution_count": 13,
     "metadata": {},
     "output_type": "execute_result"
    }
   ],
   "source": [
    "df_prod['My Growth']=Algorithm.predict(df_prod['Shoe size'].values.reshape(-1,1))\n",
    "df_prod"
   ]
  },
  {
   "cell_type": "markdown",
   "id": "26d3066c",
   "metadata": {},
   "source": [
    "# Про пальцы"
   ]
  },
  {
   "cell_type": "code",
   "execution_count": 2,
   "id": "66f0a814",
   "metadata": {},
   "outputs": [
    {
     "name": "stdout",
     "output_type": "stream",
     "text": [
      "<class 'pandas.core.frame.DataFrame'>\n",
      "RangeIndex: 186 entries, 0 to 185\n",
      "Data columns (total 48 columns):\n",
      " #   Column                       Non-Null Count  Dtype  \n",
      "---  ------                       --------------  -----  \n",
      " 0   Age                          186 non-null    int64  \n",
      " 1   Growth                       186 non-null    int64  \n",
      " 2   Shoe size                    186 non-null    int64  \n",
      " 3   Course number                186 non-null    int64  \n",
      " 4   Year of birth                186 non-null    int64  \n",
      " 5   Friend number                186 non-null    int64  \n",
      " 6   Russian rating               186 non-null    int64  \n",
      " 7   Maths rating                 186 non-null    int64  \n",
      " 8   Physics rating               186 non-null    int64  \n",
      " 9   Computer science rating      186 non-null    int64  \n",
      " 10  Chemistry rating             186 non-null    int64  \n",
      " 11  Literature rating            186 non-null    int64  \n",
      " 12  History rating               186 non-null    int64  \n",
      " 13  Geography rating             186 non-null    int64  \n",
      " 14  Biology rating               186 non-null    int64  \n",
      " 15  Foreign language rating      186 non-null    int64  \n",
      " 16  Social science rating        186 non-null    int64  \n",
      " 17  Distance to home km          186 non-null    int64  \n",
      " 18  Minutes to first class       186 non-null    int64  \n",
      " 19  Children number              150 non-null    float64\n",
      " 20  Removed teeth                148 non-null    float64\n",
      " 21  Weight                       157 non-null    float64\n",
      " 22  Glasses                      184 non-null    object \n",
      " 23  Sex                          186 non-null    object \n",
      " 24  Problems in last semester    186 non-null    object \n",
      " 25  Coin                         186 non-null    object \n",
      " 26  Rock paper scissors          186 non-null    object \n",
      " 27  Animal                       186 non-null    object \n",
      " 28  Month of birthday            186 non-null    int64  \n",
      " 29  Your rating in university    186 non-null    object \n",
      " 30  Fastfood                     186 non-null    object \n",
      " 31  Height of 5000 mm            186 non-null    int64  \n",
      " 32  Width of 5000 mm             186 non-null    int64  \n",
      " 33  Putin age                    186 non-null    int64  \n",
      " 34  Army                         186 non-null    object \n",
      " 35  Hostel                       186 non-null    object \n",
      " 36  Hair length                  186 non-null    float64\n",
      " 37  Floor number                 186 non-null    int64  \n",
      " 38  Social network duration min  186 non-null    int64  \n",
      " 39  Chocolate                    186 non-null    object \n",
      " 40  City population              186 non-null    float64\n",
      " 41  Strange people               186 non-null    object \n",
      " 42  Your insitute                186 non-null    object \n",
      " 43  Brother-sister               186 non-null    object \n",
      " 44  Plane seat                   186 non-null    object \n",
      " 45  MIddle and index finger      186 non-null    int64  \n",
      " 46  Middle and ring finger       186 non-null    float64\n",
      " 47  Middle and little finger     186 non-null    float64\n",
      "dtypes: float64(7), int64(26), object(15)\n",
      "memory usage: 69.9+ KB\n"
     ]
    }
   ],
   "source": [
    "df.info()"
   ]
  },
  {
   "cell_type": "code",
   "execution_count": 8,
   "id": "4d8fc604",
   "metadata": {},
   "outputs": [
    {
     "name": "stdout",
     "output_type": "stream",
     "text": [
      "<class 'pandas.core.frame.DataFrame'>\n",
      "RangeIndex: 186 entries, 0 to 185\n",
      "Data columns (total 3 columns):\n",
      " #   Column                    Non-Null Count  Dtype  \n",
      "---  ------                    --------------  -----  \n",
      " 0   MIddle and index finger   186 non-null    int64  \n",
      " 1   Middle and ring finger    186 non-null    float64\n",
      " 2   Middle and little finger  186 non-null    float64\n",
      "dtypes: float64(2), int64(1)\n",
      "memory usage: 4.5 KB\n"
     ]
    }
   ],
   "source": [
    "df_cut=df[['MIddle and index finger','Middle and ring finger','Middle and little finger']]\n",
    "df_cut=df_cut.dropna()\n",
    "df_cut.info()"
   ]
  },
  {
   "cell_type": "code",
   "execution_count": 10,
   "id": "3c39c768",
   "metadata": {},
   "outputs": [
    {
     "data": {
      "text/plain": [
       "(7.436145518798953, array([0.10731496, 0.04389948]))"
      ]
     },
     "execution_count": 10,
     "metadata": {},
     "output_type": "execute_result"
    }
   ],
   "source": [
    "linearRegression=LinearRegression()\n",
    "result=linearRegression.fit(df_cut[['Middle and ring finger',\n",
    "                                    'Middle and little finger']].values.reshape(-1,2),df_cut['MIddle and index finger'].values)\n",
    "# sns.scatterplot(data=df_cut,x='Growth',y='Shoe size')\n",
    "result.intercept_,result.coef_"
   ]
  },
  {
   "cell_type": "code",
   "execution_count": 13,
   "id": "ba698fda",
   "metadata": {},
   "outputs": [],
   "source": [
    "df_cut['Predict']=result.predict(df_cut[['Middle and ring finger',\n",
    "                                    'Middle and little finger']].values.reshape(-1,2))"
   ]
  },
  {
   "cell_type": "code",
   "execution_count": 16,
   "id": "e31d41bf",
   "metadata": {},
   "outputs": [
    {
     "data": {
      "text/plain": [
       "3.094567105647603"
      ]
     },
     "execution_count": 16,
     "metadata": {},
     "output_type": "execute_result"
    }
   ],
   "source": [
    "from sklearn.metrics import mean_absolute_error\n",
    "mean_absolute_error(df_cut['Predict'],df_cut['MIddle and index finger'])"
   ]
  },
  {
   "cell_type": "code",
   "execution_count": 18,
   "id": "6d37937e",
   "metadata": {},
   "outputs": [],
   "source": [
    "df_test_cut=df_test[['MIddle and index finger','Middle and ring finger','Middle and little finger']]"
   ]
  },
  {
   "cell_type": "code",
   "execution_count": 19,
   "id": "fef611b2",
   "metadata": {},
   "outputs": [],
   "source": [
    "df_test_cut['Predict']=result.predict(df_test_cut[['Middle and ring finger',\n",
    "                                    'Middle and little finger']].values.reshape(-1,2))"
   ]
  },
  {
   "cell_type": "code",
   "execution_count": 20,
   "id": "5c1f1ff0",
   "metadata": {},
   "outputs": [
    {
     "data": {
      "text/html": [
       "<div>\n",
       "<style scoped>\n",
       "    .dataframe tbody tr th:only-of-type {\n",
       "        vertical-align: middle;\n",
       "    }\n",
       "\n",
       "    .dataframe tbody tr th {\n",
       "        vertical-align: top;\n",
       "    }\n",
       "\n",
       "    .dataframe thead th {\n",
       "        text-align: right;\n",
       "    }\n",
       "</style>\n",
       "<table border=\"1\" class=\"dataframe\">\n",
       "  <thead>\n",
       "    <tr style=\"text-align: right;\">\n",
       "      <th></th>\n",
       "      <th>MIddle and index finger</th>\n",
       "      <th>Middle and ring finger</th>\n",
       "      <th>Middle and little finger</th>\n",
       "      <th>Predict</th>\n",
       "    </tr>\n",
       "  </thead>\n",
       "  <tbody>\n",
       "    <tr>\n",
       "      <th>0</th>\n",
       "      <td>3.0</td>\n",
       "      <td>5</td>\n",
       "      <td>12</td>\n",
       "      <td>8.499514</td>\n",
       "    </tr>\n",
       "    <tr>\n",
       "      <th>1</th>\n",
       "      <td>9.0</td>\n",
       "      <td>12</td>\n",
       "      <td>50</td>\n",
       "      <td>10.918899</td>\n",
       "    </tr>\n",
       "    <tr>\n",
       "      <th>2</th>\n",
       "      <td>7.0</td>\n",
       "      <td>14</td>\n",
       "      <td>40</td>\n",
       "      <td>10.694534</td>\n",
       "    </tr>\n",
       "    <tr>\n",
       "      <th>3</th>\n",
       "      <td>5.0</td>\n",
       "      <td>7</td>\n",
       "      <td>10</td>\n",
       "      <td>8.626345</td>\n",
       "    </tr>\n",
       "    <tr>\n",
       "      <th>4</th>\n",
       "      <td>10.0</td>\n",
       "      <td>10</td>\n",
       "      <td>35</td>\n",
       "      <td>10.045777</td>\n",
       "    </tr>\n",
       "    <tr>\n",
       "      <th>...</th>\n",
       "      <td>...</td>\n",
       "      <td>...</td>\n",
       "      <td>...</td>\n",
       "      <td>...</td>\n",
       "    </tr>\n",
       "    <tr>\n",
       "      <th>93</th>\n",
       "      <td>17.0</td>\n",
       "      <td>8</td>\n",
       "      <td>37</td>\n",
       "      <td>9.918946</td>\n",
       "    </tr>\n",
       "    <tr>\n",
       "      <th>94</th>\n",
       "      <td>6.0</td>\n",
       "      <td>10</td>\n",
       "      <td>30</td>\n",
       "      <td>9.826280</td>\n",
       "    </tr>\n",
       "    <tr>\n",
       "      <th>95</th>\n",
       "      <td>4.0</td>\n",
       "      <td>7</td>\n",
       "      <td>17</td>\n",
       "      <td>8.933641</td>\n",
       "    </tr>\n",
       "    <tr>\n",
       "      <th>96</th>\n",
       "      <td>14.0</td>\n",
       "      <td>7</td>\n",
       "      <td>31</td>\n",
       "      <td>9.548234</td>\n",
       "    </tr>\n",
       "    <tr>\n",
       "      <th>97</th>\n",
       "      <td>20.0</td>\n",
       "      <td>5</td>\n",
       "      <td>40</td>\n",
       "      <td>9.728700</td>\n",
       "    </tr>\n",
       "  </tbody>\n",
       "</table>\n",
       "<p>98 rows × 4 columns</p>\n",
       "</div>"
      ],
      "text/plain": [
       "    MIddle and index finger  Middle and ring finger  Middle and little finger  \\\n",
       "0                       3.0                       5                        12   \n",
       "1                       9.0                      12                        50   \n",
       "2                       7.0                      14                        40   \n",
       "3                       5.0                       7                        10   \n",
       "4                      10.0                      10                        35   \n",
       "..                      ...                     ...                       ...   \n",
       "93                     17.0                       8                        37   \n",
       "94                      6.0                      10                        30   \n",
       "95                      4.0                       7                        17   \n",
       "96                     14.0                       7                        31   \n",
       "97                     20.0                       5                        40   \n",
       "\n",
       "      Predict  \n",
       "0    8.499514  \n",
       "1   10.918899  \n",
       "2   10.694534  \n",
       "3    8.626345  \n",
       "4   10.045777  \n",
       "..        ...  \n",
       "93   9.918946  \n",
       "94   9.826280  \n",
       "95   8.933641  \n",
       "96   9.548234  \n",
       "97   9.728700  \n",
       "\n",
       "[98 rows x 4 columns]"
      ]
     },
     "execution_count": 20,
     "metadata": {},
     "output_type": "execute_result"
    }
   ],
   "source": [
    "df_test_cut"
   ]
  },
  {
   "cell_type": "code",
   "execution_count": 21,
   "id": "275a81fb",
   "metadata": {},
   "outputs": [
    {
     "data": {
      "text/plain": [
       "4.680118432328658"
      ]
     },
     "execution_count": 21,
     "metadata": {},
     "output_type": "execute_result"
    }
   ],
   "source": [
    "mean_absolute_error(df_test_cut['Predict'],df_test_cut['MIddle and index finger'])"
   ]
  },
  {
   "cell_type": "code",
   "execution_count": 25,
   "id": "6d9b772d",
   "metadata": {},
   "outputs": [],
   "source": [
    " df_cut=df[['Age','Year of birth', 'Month of birthday']]"
   ]
  },
  {
   "cell_type": "code",
   "execution_count": 26,
   "id": "466fa786",
   "metadata": {},
   "outputs": [
    {
     "data": {
      "text/plain": [
       "(22.929930296699347, array([-0.00145442,  0.10005863]))"
      ]
     },
     "execution_count": 26,
     "metadata": {},
     "output_type": "execute_result"
    }
   ],
   "source": [
    "linearRegression=LinearRegression()\n",
    "result=linearRegression.fit(df_cut[['Year of birth', 'Month of birthday']].values.reshape(-1,2),df_cut['Age'].values)\n",
    "# sns.scatterplot(data=df_cut,x='Growth',y='Shoe size')\n",
    "result.intercept_,result.coef_"
   ]
  },
  {
   "cell_type": "code",
   "execution_count": 27,
   "id": "0c70ad89",
   "metadata": {},
   "outputs": [],
   "source": [
    "df_test=pd.read_csv(r'C:\\Users\\Я\\Desktop\\читы жизнь\\Study\\Programming\\0_Jupyter\\students_test.csv')"
   ]
  },
  {
   "cell_type": "code",
   "execution_count": 28,
   "id": "597e3402",
   "metadata": {},
   "outputs": [],
   "source": [
    "df_test_cut=df_test[['Age','Year of birth', 'Month of birthday']]\n",
    "df_test_cut['Predict']=result.predict(df_test_cut[['Year of birth', 'Month of birthday']].values.reshape(-1,2))"
   ]
  },
  {
   "cell_type": "code",
   "execution_count": 29,
   "id": "3157646d",
   "metadata": {},
   "outputs": [
    {
     "data": {
      "text/html": [
       "<div>\n",
       "<style scoped>\n",
       "    .dataframe tbody tr th:only-of-type {\n",
       "        vertical-align: middle;\n",
       "    }\n",
       "\n",
       "    .dataframe tbody tr th {\n",
       "        vertical-align: top;\n",
       "    }\n",
       "\n",
       "    .dataframe thead th {\n",
       "        text-align: right;\n",
       "    }\n",
       "</style>\n",
       "<table border=\"1\" class=\"dataframe\">\n",
       "  <thead>\n",
       "    <tr style=\"text-align: right;\">\n",
       "      <th></th>\n",
       "      <th>Age</th>\n",
       "      <th>Year of birth</th>\n",
       "      <th>Month of birthday</th>\n",
       "      <th>Predict</th>\n",
       "    </tr>\n",
       "  </thead>\n",
       "  <tbody>\n",
       "    <tr>\n",
       "      <th>0</th>\n",
       "      <td>22</td>\n",
       "      <td>2000</td>\n",
       "      <td>6</td>\n",
       "      <td>20.621444</td>\n",
       "    </tr>\n",
       "    <tr>\n",
       "      <th>1</th>\n",
       "      <td>20</td>\n",
       "      <td>2002</td>\n",
       "      <td>3</td>\n",
       "      <td>20.318359</td>\n",
       "    </tr>\n",
       "    <tr>\n",
       "      <th>2</th>\n",
       "      <td>21</td>\n",
       "      <td>2001</td>\n",
       "      <td>6</td>\n",
       "      <td>20.619989</td>\n",
       "    </tr>\n",
       "    <tr>\n",
       "      <th>3</th>\n",
       "      <td>21</td>\n",
       "      <td>2001</td>\n",
       "      <td>7</td>\n",
       "      <td>20.720048</td>\n",
       "    </tr>\n",
       "    <tr>\n",
       "      <th>4</th>\n",
       "      <td>22</td>\n",
       "      <td>2000</td>\n",
       "      <td>5</td>\n",
       "      <td>20.521385</td>\n",
       "    </tr>\n",
       "  </tbody>\n",
       "</table>\n",
       "</div>"
      ],
      "text/plain": [
       "   Age  Year of birth  Month of birthday    Predict\n",
       "0   22           2000                  6  20.621444\n",
       "1   20           2002                  3  20.318359\n",
       "2   21           2001                  6  20.619989\n",
       "3   21           2001                  7  20.720048\n",
       "4   22           2000                  5  20.521385"
      ]
     },
     "execution_count": 29,
     "metadata": {},
     "output_type": "execute_result"
    }
   ],
   "source": [
    "df_test_cut.head()"
   ]
  },
  {
   "cell_type": "code",
   "execution_count": 30,
   "id": "78d8b02e",
   "metadata": {},
   "outputs": [
    {
     "data": {
      "text/plain": [
       "1.6054960000660925"
      ]
     },
     "execution_count": 30,
     "metadata": {},
     "output_type": "execute_result"
    }
   ],
   "source": [
    "mean_absolute_error(df_test_cut['Predict'],df_test_cut['Age'])"
   ]
  },
  {
   "cell_type": "markdown",
   "id": "efca6984",
   "metadata": {},
   "source": [
    "Будем по признакам 'Hair length','Shoe size' предсказывать признак 'Sex'. Загрузите эти признаки из таблицы students.csv\n",
    "\n",
    "Запустите модель DecisionTreeClassifier, указав максимальную глубину дерева равную 2.\n",
    "\n",
    "\n",
    "\n",
    "Чему равно заштрихованное число в корне дерева?"
   ]
  },
  {
   "cell_type": "code",
   "execution_count": 33,
   "id": "1a9c6b6a",
   "metadata": {},
   "outputs": [],
   "source": [
    "from sklearn import tree\n",
    "df_cut=df[['Hair length','Shoe size','Sex']]\n",
    "model=tree.DecisionTreeClassifier(max_depth=2)\n",
    "model.fit(df_cut[['Hair length','Shoe size']].values.reshape(-1,2),df_cut['Sex'].values)\n",
    "df_test['Predicted']=model.predict(df_test[['Hair length','Shoe size']])"
   ]
  },
  {
   "cell_type": "code",
   "execution_count": 36,
   "id": "f5ef46d9",
   "metadata": {},
   "outputs": [
    {
     "data": {
      "text/html": [
       "<div>\n",
       "<style scoped>\n",
       "    .dataframe tbody tr th:only-of-type {\n",
       "        vertical-align: middle;\n",
       "    }\n",
       "\n",
       "    .dataframe tbody tr th {\n",
       "        vertical-align: top;\n",
       "    }\n",
       "\n",
       "    .dataframe thead th {\n",
       "        text-align: right;\n",
       "    }\n",
       "</style>\n",
       "<table border=\"1\" class=\"dataframe\">\n",
       "  <thead>\n",
       "    <tr style=\"text-align: right;\">\n",
       "      <th>Sex</th>\n",
       "      <th>женский</th>\n",
       "      <th>мужской</th>\n",
       "    </tr>\n",
       "    <tr>\n",
       "      <th>Predicted</th>\n",
       "      <th></th>\n",
       "      <th></th>\n",
       "    </tr>\n",
       "  </thead>\n",
       "  <tbody>\n",
       "    <tr>\n",
       "      <th>женский</th>\n",
       "      <td>61</td>\n",
       "      <td>2</td>\n",
       "    </tr>\n",
       "    <tr>\n",
       "      <th>мужской</th>\n",
       "      <td>1</td>\n",
       "      <td>34</td>\n",
       "    </tr>\n",
       "  </tbody>\n",
       "</table>\n",
       "</div>"
      ],
      "text/plain": [
       "Sex        женский  мужской\n",
       "Predicted                  \n",
       "женский         61        2\n",
       "мужской          1       34"
      ]
     },
     "execution_count": 36,
     "metadata": {},
     "output_type": "execute_result"
    }
   ],
   "source": [
    "pd.crosstab(df_test['Predicted'],df_test['Sex'])"
   ]
  },
  {
   "cell_type": "markdown",
   "id": "021e59bc",
   "metadata": {},
   "source": [
    "Будем по признакам 'Hair length','Shoe size' предсказывать признак 'Sex'. Загрузите эти признаки из таблицы students.csv\n",
    "\n",
    "Запустите модель DecisionTreeClassifier, указав максимальную глубину дерева равную 2,  и получите предсказания для студентов из тестовой выборки students_test.csv\n",
    "\n",
    "В окошко ответа запишите значение recall (для мужчин)"
   ]
  },
  {
   "cell_type": "code",
   "execution_count": 42,
   "id": "2910e5d7",
   "metadata": {
    "scrolled": true
   },
   "outputs": [
    {
     "data": {
      "text/plain": [
       "(array([0.94444444, 0.98387097]),\n",
       " array([0.97142857, 0.96825397]),\n",
       " array([0.95774648, 0.976     ]),\n",
       " array([35, 63], dtype=int64))"
      ]
     },
     "execution_count": 42,
     "metadata": {},
     "output_type": "execute_result"
    }
   ],
   "source": [
    "from sklearn.metrics import precision_recall_fscore_support\n",
    "precision_recall_fscore_support(df_test['Predicted'],df_test['Sex'])"
   ]
  },
  {
   "cell_type": "code",
   "execution_count": 35,
   "id": "4fa04791",
   "metadata": {},
   "outputs": [
    {
     "data": {
      "image/svg+xml": [
       "<?xml version=\"1.0\" encoding=\"UTF-8\" standalone=\"no\"?>\r\n",
       "<!DOCTYPE svg PUBLIC \"-//W3C//DTD SVG 1.1//EN\"\r\n",
       " \"http://www.w3.org/Graphics/SVG/1.1/DTD/svg11.dtd\">\r\n",
       "<!-- Generated by graphviz version 2.38.0 (20140413.2041)\r\n",
       " -->\r\n",
       "<!-- Title: Tree Pages: 1 -->\r\n",
       "<svg width=\"302pt\" height=\"314pt\"\r\n",
       " viewBox=\"0.00 0.00 302.00 314.00\" xmlns=\"http://www.w3.org/2000/svg\" xmlns:xlink=\"http://www.w3.org/1999/xlink\">\r\n",
       "<g id=\"graph0\" class=\"graph\" transform=\"scale(1 1) rotate(0) translate(4 310)\">\r\n",
       "<title>Tree</title>\r\n",
       "<polygon fill=\"white\" stroke=\"none\" points=\"-4,4 -4,-310 298,-310 298,4 -4,4\"/>\r\n",
       "<!-- 0 -->\r\n",
       "<g id=\"node1\" class=\"node\"><title>0</title>\r\n",
       "<path fill=\"#f3c6a6\" stroke=\"black\" d=\"M225,-306C225,-306 126,-306 126,-306 120,-306 114,-300 114,-294 114,-294 114,-235 114,-235 114,-229 120,-223 126,-223 126,-223 225,-223 225,-223 231,-223 237,-229 237,-235 237,-235 237,-294 237,-294 237,-300 231,-306 225,-306\"/>\r\n",
       "<text text-anchor=\"start\" x=\"122\" y=\"-290.8\" font-family=\"Helvetica,sans-Serif\" font-size=\"14.00\">Shoe size ≤ 41.5</text>\r\n",
       "<text text-anchor=\"start\" x=\"138\" y=\"-275.8\" font-family=\"Helvetica,sans-Serif\" font-size=\"14.00\">gini = 0.458</text>\r\n",
       "<text text-anchor=\"start\" x=\"128\" y=\"-260.8\" font-family=\"Helvetica,sans-Serif\" font-size=\"14.00\">samples = 186</text>\r\n",
       "<text text-anchor=\"start\" x=\"122.5\" y=\"-245.8\" font-family=\"Helvetica,sans-Serif\" font-size=\"14.00\">value = [120, 66]</text>\r\n",
       "<text text-anchor=\"start\" x=\"148.5\" y=\"-230.8\" font-family=\"Helvetica,sans-Serif\" font-size=\"14.00\">class = f</text>\r\n",
       "</g>\r\n",
       "<!-- 1 -->\r\n",
       "<g id=\"node2\" class=\"node\"><title>1</title>\r\n",
       "<path fill=\"#e88f4e\" stroke=\"black\" d=\"M158.5,-187C158.5,-187 60.5,-187 60.5,-187 54.5,-187 48.5,-181 48.5,-175 48.5,-175 48.5,-116 48.5,-116 48.5,-110 54.5,-104 60.5,-104 60.5,-104 158.5,-104 158.5,-104 164.5,-104 170.5,-110 170.5,-116 170.5,-116 170.5,-175 170.5,-175 170.5,-181 164.5,-187 158.5,-187\"/>\r\n",
       "<text text-anchor=\"start\" x=\"58\" y=\"-171.8\" font-family=\"Helvetica,sans-Serif\" font-size=\"14.00\">Hair length ≤ 8.5</text>\r\n",
       "<text text-anchor=\"start\" x=\"72\" y=\"-156.8\" font-family=\"Helvetica,sans-Serif\" font-size=\"14.00\">gini = 0.176</text>\r\n",
       "<text text-anchor=\"start\" x=\"62\" y=\"-141.8\" font-family=\"Helvetica,sans-Serif\" font-size=\"14.00\">samples = 133</text>\r\n",
       "<text text-anchor=\"start\" x=\"56.5\" y=\"-126.8\" font-family=\"Helvetica,sans-Serif\" font-size=\"14.00\">value = [120, 13]</text>\r\n",
       "<text text-anchor=\"start\" x=\"82.5\" y=\"-111.8\" font-family=\"Helvetica,sans-Serif\" font-size=\"14.00\">class = f</text>\r\n",
       "</g>\r\n",
       "<!-- 0&#45;&gt;1 -->\r\n",
       "<g id=\"edge1\" class=\"edge\"><title>0&#45;&gt;1</title>\r\n",
       "<path fill=\"none\" stroke=\"black\" d=\"M152.602,-222.907C147.687,-214.195 142.442,-204.897 137.363,-195.893\"/>\r\n",
       "<polygon fill=\"black\" stroke=\"black\" points=\"140.32,-194.011 132.358,-187.021 134.223,-197.45 140.32,-194.011\"/>\r\n",
       "<text text-anchor=\"middle\" x=\"125.646\" y=\"-207.403\" font-family=\"Helvetica,sans-Serif\" font-size=\"14.00\">True</text>\r\n",
       "</g>\r\n",
       "<!-- 4 -->\r\n",
       "<g id=\"node5\" class=\"node\"><title>4</title>\r\n",
       "<path fill=\"#399de5\" stroke=\"black\" d=\"M282,-179.5C282,-179.5 201,-179.5 201,-179.5 195,-179.5 189,-173.5 189,-167.5 189,-167.5 189,-123.5 189,-123.5 189,-117.5 195,-111.5 201,-111.5 201,-111.5 282,-111.5 282,-111.5 288,-111.5 294,-117.5 294,-123.5 294,-123.5 294,-167.5 294,-167.5 294,-173.5 288,-179.5 282,-179.5\"/>\r\n",
       "<text text-anchor=\"start\" x=\"212.5\" y=\"-164.3\" font-family=\"Helvetica,sans-Serif\" font-size=\"14.00\">gini = 0.0</text>\r\n",
       "<text text-anchor=\"start\" x=\"198\" y=\"-149.3\" font-family=\"Helvetica,sans-Serif\" font-size=\"14.00\">samples = 53</text>\r\n",
       "<text text-anchor=\"start\" x=\"197\" y=\"-134.3\" font-family=\"Helvetica,sans-Serif\" font-size=\"14.00\">value = [0, 53]</text>\r\n",
       "<text text-anchor=\"start\" x=\"211\" y=\"-119.3\" font-family=\"Helvetica,sans-Serif\" font-size=\"14.00\">class = m</text>\r\n",
       "</g>\r\n",
       "<!-- 0&#45;&gt;4 -->\r\n",
       "<g id=\"edge4\" class=\"edge\"><title>0&#45;&gt;4</title>\r\n",
       "<path fill=\"none\" stroke=\"black\" d=\"M198.398,-222.907C204.685,-211.763 211.513,-199.658 217.842,-188.439\"/>\r\n",
       "<polygon fill=\"black\" stroke=\"black\" points=\"220.926,-190.096 222.79,-179.667 214.829,-186.657 220.926,-190.096\"/>\r\n",
       "<text text-anchor=\"middle\" x=\"229.502\" y=\"-200.049\" font-family=\"Helvetica,sans-Serif\" font-size=\"14.00\">False</text>\r\n",
       "</g>\r\n",
       "<!-- 2 -->\r\n",
       "<g id=\"node3\" class=\"node\"><title>2</title>\r\n",
       "<path fill=\"#399de5\" stroke=\"black\" d=\"M85,-68C85,-68 12,-68 12,-68 6,-68 0,-62 0,-56 0,-56 0,-12 0,-12 0,-6 6,-0 12,-0 12,-0 85,-0 85,-0 91,-0 97,-6 97,-12 97,-12 97,-56 97,-56 97,-62 91,-68 85,-68\"/>\r\n",
       "<text text-anchor=\"start\" x=\"19.5\" y=\"-52.8\" font-family=\"Helvetica,sans-Serif\" font-size=\"14.00\">gini = 0.0</text>\r\n",
       "<text text-anchor=\"start\" x=\"9\" y=\"-37.8\" font-family=\"Helvetica,sans-Serif\" font-size=\"14.00\">samples = 6</text>\r\n",
       "<text text-anchor=\"start\" x=\"8\" y=\"-22.8\" font-family=\"Helvetica,sans-Serif\" font-size=\"14.00\">value = [0, 6]</text>\r\n",
       "<text text-anchor=\"start\" x=\"18\" y=\"-7.8\" font-family=\"Helvetica,sans-Serif\" font-size=\"14.00\">class = m</text>\r\n",
       "</g>\r\n",
       "<!-- 1&#45;&gt;2 -->\r\n",
       "<g id=\"edge2\" class=\"edge\"><title>1&#45;&gt;2</title>\r\n",
       "<path fill=\"none\" stroke=\"black\" d=\"M86.7859,-103.726C81.9589,-95.0615 76.8531,-85.8962 71.9976,-77.1802\"/>\r\n",
       "<polygon fill=\"black\" stroke=\"black\" points=\"74.9747,-75.3322 67.0505,-68.2996 68.8595,-78.7389 74.9747,-75.3322\"/>\r\n",
       "</g>\r\n",
       "<!-- 3 -->\r\n",
       "<g id=\"node4\" class=\"node\"><title>3</title>\r\n",
       "<path fill=\"#e78845\" stroke=\"black\" d=\"M216,-68C216,-68 127,-68 127,-68 121,-68 115,-62 115,-56 115,-56 115,-12 115,-12 115,-6 121,-0 127,-0 127,-0 216,-0 216,-0 222,-0 228,-6 228,-12 228,-12 228,-56 228,-56 228,-62 222,-68 216,-68\"/>\r\n",
       "<text text-anchor=\"start\" x=\"134\" y=\"-52.8\" font-family=\"Helvetica,sans-Serif\" font-size=\"14.00\">gini = 0.104</text>\r\n",
       "<text text-anchor=\"start\" x=\"124\" y=\"-37.8\" font-family=\"Helvetica,sans-Serif\" font-size=\"14.00\">samples = 127</text>\r\n",
       "<text text-anchor=\"start\" x=\"123\" y=\"-22.8\" font-family=\"Helvetica,sans-Serif\" font-size=\"14.00\">value = [120, 7]</text>\r\n",
       "<text text-anchor=\"start\" x=\"144.5\" y=\"-7.8\" font-family=\"Helvetica,sans-Serif\" font-size=\"14.00\">class = f</text>\r\n",
       "</g>\r\n",
       "<!-- 1&#45;&gt;3 -->\r\n",
       "<g id=\"edge3\" class=\"edge\"><title>1&#45;&gt;3</title>\r\n",
       "<path fill=\"none\" stroke=\"black\" d=\"M132.587,-103.726C137.493,-95.0615 142.682,-85.8962 147.617,-77.1802\"/>\r\n",
       "<polygon fill=\"black\" stroke=\"black\" points=\"150.764,-78.726 152.645,-68.2996 144.673,-75.277 150.764,-78.726\"/>\r\n",
       "</g>\r\n",
       "</g>\r\n",
       "</svg>\r\n"
      ],
      "text/plain": [
       "<graphviz.files.Source at 0x205cc0c9db0>"
      ]
     },
     "execution_count": 35,
     "metadata": {},
     "output_type": "execute_result"
    }
   ],
   "source": [
    "import graphviz\n"
   ]
  },
  {
   "cell_type": "code",
   "execution_count": 30,
   "id": "9e9f3acc",
   "metadata": {},
   "outputs": [
    {
     "data": {
      "text/plain": [
       "[Text(0.6, 0.9375, 'x[1] <= 41.5\\ngini = 0.458\\nsamples = 186\\nvalue = [120, 66]'),\n",
       " Text(0.5333333333333333, 0.8125, 'x[0] <= 8.5\\ngini = 0.176\\nsamples = 133\\nvalue = [120, 13]'),\n",
       " Text(0.4666666666666667, 0.6875, 'gini = 0.0\\nsamples = 6\\nvalue = [0, 6]'),\n",
       " Text(0.6, 0.6875, 'x[1] <= 39.5\\ngini = 0.104\\nsamples = 127\\nvalue = [120, 7]'),\n",
       " Text(0.3333333333333333, 0.5625, 'x[1] <= 35.5\\ngini = 0.039\\nsamples = 101\\nvalue = [99, 2]'),\n",
       " Text(0.13333333333333333, 0.4375, 'x[0] <= 52.5\\ngini = 0.219\\nsamples = 8\\nvalue = [7, 1]'),\n",
       " Text(0.06666666666666667, 0.3125, 'gini = 0.0\\nsamples = 4\\nvalue = [4, 0]'),\n",
       " Text(0.2, 0.3125, 'x[0] <= 57.5\\ngini = 0.375\\nsamples = 4\\nvalue = [3, 1]'),\n",
       " Text(0.13333333333333333, 0.1875, 'gini = 0.5\\nsamples = 2\\nvalue = [1, 1]'),\n",
       " Text(0.26666666666666666, 0.1875, 'gini = 0.0\\nsamples = 2\\nvalue = [2, 0]'),\n",
       " Text(0.5333333333333333, 0.4375, 'x[0] <= 36.0\\ngini = 0.021\\nsamples = 93\\nvalue = [92, 1]'),\n",
       " Text(0.4666666666666667, 0.3125, 'x[0] <= 33.0\\ngini = 0.067\\nsamples = 29\\nvalue = [28, 1]'),\n",
       " Text(0.4, 0.1875, 'gini = 0.0\\nsamples = 27\\nvalue = [27, 0]'),\n",
       " Text(0.5333333333333333, 0.1875, 'x[1] <= 38.5\\ngini = 0.5\\nsamples = 2\\nvalue = [1, 1]'),\n",
       " Text(0.4666666666666667, 0.0625, 'gini = 0.0\\nsamples = 1\\nvalue = [1, 0]'),\n",
       " Text(0.6, 0.0625, 'gini = 0.0\\nsamples = 1\\nvalue = [0, 1]'),\n",
       " Text(0.6, 0.3125, 'gini = 0.0\\nsamples = 64\\nvalue = [64, 0]'),\n",
       " Text(0.8666666666666667, 0.5625, 'x[0] <= 33.5\\ngini = 0.311\\nsamples = 26\\nvalue = [21, 5]'),\n",
       " Text(0.8, 0.4375, 'x[0] <= 12.5\\ngini = 0.496\\nsamples = 11\\nvalue = [6, 5]'),\n",
       " Text(0.7333333333333333, 0.3125, 'gini = 0.0\\nsamples = 1\\nvalue = [0, 1]'),\n",
       " Text(0.8666666666666667, 0.3125, 'x[0] <= 26.0\\ngini = 0.48\\nsamples = 10\\nvalue = [6, 4]'),\n",
       " Text(0.8, 0.1875, 'x[0] <= 16.0\\ngini = 0.444\\nsamples = 9\\nvalue = [6, 3]'),\n",
       " Text(0.7333333333333333, 0.0625, 'gini = 0.5\\nsamples = 2\\nvalue = [1, 1]'),\n",
       " Text(0.8666666666666667, 0.0625, 'gini = 0.408\\nsamples = 7\\nvalue = [5, 2]'),\n",
       " Text(0.9333333333333333, 0.1875, 'gini = 0.0\\nsamples = 1\\nvalue = [0, 1]'),\n",
       " Text(0.9333333333333333, 0.4375, 'gini = 0.0\\nsamples = 15\\nvalue = [15, 0]'),\n",
       " Text(0.6666666666666666, 0.8125, 'gini = 0.0\\nsamples = 53\\nvalue = [0, 53]')]"
      ]
     },
     "execution_count": 30,
     "metadata": {},
     "output_type": "execute_result"
    },
    {
     "data": {
      "image/png": "[encoded data removed]",
      "text/plain": [
       "<Figure size 640x480 with 1 Axes>"
      ]
     },
     "metadata": {},
     "output_type": "display_data"
    }
   ],
   "source": [
    "tree.plot_tree(model)"
   ]
  },
  {
   "cell_type": "markdown",
   "id": "ab7c4e06",
   "metadata": {},
   "source": [
    "Будем по признакам 'Year of birth', 'Month of birthday' предсказывать признак 'Age'. Загрузите эти признаки из таблицы students.csv\n",
    "\n",
    "Запустите модель DecisionTreeRegressor, установив максимальную глубину дерева 3. Чему равно заштрихованное число в корне построенного дерева?"
   ]
  },
  {
   "cell_type": "code",
   "execution_count": 47,
   "id": "8075f0ba",
   "metadata": {},
   "outputs": [
    {
     "data": {
      "text/plain": [
       "[Text(0.5, 0.875, 'x[0] <= 1996.5\\nsquared_error = 11.967\\nsamples = 186\\nvalue = 20.688'),\n",
       " Text(0.25, 0.625, 'x[1] <= 11.0\\nsquared_error = 80.89\\nsamples = 10\\nvalue = 30.1'),\n",
       " Text(0.125, 0.375, 'x[1] <= 8.0\\nsquared_error = 7.673\\nsamples = 7\\nvalue = 26.429'),\n",
       " Text(0.0625, 0.125, 'squared_error = 3.2\\nsamples = 5\\nvalue = 25.0'),\n",
       " Text(0.1875, 0.125, 'squared_error = 1.0\\nsamples = 2\\nvalue = 30.0'),\n",
       " Text(0.375, 0.375, 'x[0] <= 1973.0\\nsquared_error = 146.889\\nsamples = 3\\nvalue = 38.667'),\n",
       " Text(0.3125, 0.125, 'squared_error = 0.0\\nsamples = 1\\nvalue = 55.0'),\n",
       " Text(0.4375, 0.125, 'squared_error = 20.25\\nsamples = 2\\nvalue = 30.5'),\n",
       " Text(0.75, 0.625, 'x[0] <= 2001.5\\nsquared_error = 2.732\\nsamples = 176\\nvalue = 20.153'),\n",
       " Text(0.625, 0.375, 'x[0] <= 1999.5\\nsquared_error = 1.28\\nsamples = 83\\nvalue = 21.578'),\n",
       " Text(0.5625, 0.125, 'squared_error = 0.628\\nsamples = 22\\nvalue = 23.091'),\n",
       " Text(0.6875, 0.125, 'squared_error = 0.392\\nsamples = 61\\nvalue = 21.033'),\n",
       " Text(0.875, 0.375, 'x[0] <= 2002.5\\nsquared_error = 0.599\\nsamples = 93\\nvalue = 18.882'),\n",
       " Text(0.8125, 0.125, 'squared_error = 0.231\\nsamples = 33\\nvalue = 19.636'),\n",
       " Text(0.9375, 0.125, 'squared_error = 0.316\\nsamples = 60\\nvalue = 18.467')]"
      ]
     },
     "execution_count": 47,
     "metadata": {},
     "output_type": "execute_result"
    },
    {
     "data": {
      "image/png": "[encoded data removed]",
      "text/plain": [
       "<Figure size 640x480 with 1 Axes>"
      ]
     },
     "metadata": {},
     "output_type": "display_data"
    }
   ],
   "source": [
    "df_new=df[['Year of birth', 'Month of birthday','Age']]\n",
    "model2=tree.DecisionTreeRegressor(max_depth=3)\n",
    "model2.fit(df[['Year of birth', 'Month of birthday']].values.reshape(-1,2),df['Age'].values)\n",
    "tree.plot_tree(model2)"
   ]
  },
  {
   "cell_type": "markdown",
   "id": "91a28667",
   "metadata": {},
   "source": [
    "Будем по признакам 'Year of birth', 'Month of birthday' предсказывать признак 'Age'. Загрузите эти признаки из таблицы students.csv\n",
    "\n",
    "Запустите модель DecisionTreeRegressor, установив максимальную глубину дерева 3 и получите предсказания для студентов из тестовой выборки students_test.csv\n",
    "\n",
    "В окошко ответа запишите среднюю абсолютную ошибку mean absolute error на тестовой выборке."
   ]
  },
  {
   "cell_type": "code",
   "execution_count": 52,
   "id": "be6c4115",
   "metadata": {},
   "outputs": [
    {
     "data": {
      "text/plain": [
       "0.7241329318612689"
      ]
     },
     "execution_count": 52,
     "metadata": {},
     "output_type": "execute_result"
    }
   ],
   "source": [
    "df_new_test=df_test[['Year of birth', 'Month of birthday','Age']]\n",
    "df_new_test['Predicted']=model2.predict(df_new_test[['Year of birth','Month of birthday']].values.reshape(-1,2))\n",
    "mean_absolute_error(df_new_test['Predicted'],df_new_test['Age'])"
   ]
  }
 ],
 "metadata": {
  "kernelspec": {
   "display_name": "Python 3 (ipykernel)",
   "language": "python",
   "name": "python3"
  },
  "language_info": {
   "codemirror_mode": {
    "name": "ipython",
    "version": 3
   },
   "file_extension": ".py",
   "mimetype": "text/x-python",
   "name": "python",
   "nbconvert_exporter": "python",
   "pygments_lexer": "ipython3",
   "version": "3.10.8"
  },
  "toc": {
   "base_numbering": 1,
   "nav_menu": {},
   "number_sections": true,
   "sideBar": true,
   "skip_h1_title": false,
   "title_cell": "Table of Contents",
   "title_sidebar": "Contents",
   "toc_cell": false,
   "toc_position": {},
   "toc_section_display": true,
   "toc_window_display": false
  }
 },
 "nbformat": 4,
 "nbformat_minor": 5
}
