{
 "cells": [
  {
   "cell_type": "code",
   "execution_count": 1,
   "id": "6f96f9e7",
   "metadata": {},
   "outputs": [],
   "source": [
    "import pandas as pd\n",
    "pd.options.mode.chained_assignment = None\n",
    "df=pd.read_csv(r'C:\\Users\\Я\\Desktop\\читы жизнь\\Study\\Programming\\0_Jupyter\\students.csv')"
   ]
  },
  {
   "cell_type": "code",
   "execution_count": 2,
   "id": "74900e7a",
   "metadata": {},
   "outputs": [
    {
     "name": "stdout",
     "output_type": "stream",
     "text": [
      "<class 'pandas.core.frame.DataFrame'>\n",
      "RangeIndex: 186 entries, 0 to 185\n",
      "Data columns (total 48 columns):\n",
      " #   Column                       Non-Null Count  Dtype  \n",
      "---  ------                       --------------  -----  \n",
      " 0   Age                          186 non-null    int64  \n",
      " 1   Growth                       186 non-null    int64  \n",
      " 2   Shoe size                    186 non-null    int64  \n",
      " 3   Course number                186 non-null    int64  \n",
      " 4   Year of birth                186 non-null    int64  \n",
      " 5   Friend number                186 non-null    int64  \n",
      " 6   Russian rating               186 non-null    int64  \n",
      " 7   Maths rating                 186 non-null    int64  \n",
      " 8   Physics rating               186 non-null    int64  \n",
      " 9   Computer science rating      186 non-null    int64  \n",
      " 10  Chemistry rating             186 non-null    int64  \n",
      " 11  Literature rating            186 non-null    int64  \n",
      " 12  History rating               186 non-null    int64  \n",
      " 13  Geography rating             186 non-null    int64  \n",
      " 14  Biology rating               186 non-null    int64  \n",
      " 15  Foreign language rating      186 non-null    int64  \n",
      " 16  Social science rating        186 non-null    int64  \n",
      " 17  Distance to home km          186 non-null    int64  \n",
      " 18  Minutes to first class       186 non-null    int64  \n",
      " 19  Children number              150 non-null    float64\n",
      " 20  Removed teeth                148 non-null    float64\n",
      " 21  Weight                       157 non-null    float64\n",
      " 22  Glasses                      184 non-null    object \n",
      " 23  Sex                          186 non-null    object \n",
      " 24  Problems in last semester    186 non-null    object \n",
      " 25  Coin                         186 non-null    object \n",
      " 26  Rock paper scissors          186 non-null    object \n",
      " 27  Animal                       186 non-null    object \n",
      " 28  Month of birthday            186 non-null    int64  \n",
      " 29  Your rating in university    186 non-null    object \n",
      " 30  Fastfood                     186 non-null    object \n",
      " 31  Height of 5000 mm            186 non-null    int64  \n",
      " 32  Width of 5000 mm             186 non-null    int64  \n",
      " 33  Putin age                    186 non-null    int64  \n",
      " 34  Army                         186 non-null    object \n",
      " 35  Hostel                       186 non-null    object \n",
      " 36  Hair length                  186 non-null    float64\n",
      " 37  Floor number                 186 non-null    int64  \n",
      " 38  Social network duration min  186 non-null    int64  \n",
      " 39  Chocolate                    186 non-null    object \n",
      " 40  City population              186 non-null    float64\n",
      " 41  Strange people               186 non-null    object \n",
      " 42  Your insitute                186 non-null    object \n",
      " 43  Brother-sister               186 non-null    object \n",
      " 44  Plane seat                   186 non-null    object \n",
      " 45  MIddle and index finger      186 non-null    int64  \n",
      " 46  Middle and ring finger       186 non-null    float64\n",
      " 47  Middle and little finger     186 non-null    float64\n",
      "dtypes: float64(7), int64(26), object(15)\n",
      "memory usage: 69.9+ KB\n"
     ]
    }
   ],
   "source": [
    "df.info()"
   ]
  },
  {
   "cell_type": "markdown",
   "id": "77ab5c2c",
   "metadata": {},
   "source": [
    "# Удаление всех строк с пустыми значениями\n",
    "## .dropna()"
   ]
  },
  {
   "cell_type": "code",
   "execution_count": 3,
   "id": "27c35a30",
   "metadata": {},
   "outputs": [],
   "source": [
    "df1=df.dropna()"
   ]
  },
  {
   "cell_type": "code",
   "execution_count": 4,
   "id": "0469dfd6",
   "metadata": {
    "collapsed": true
   },
   "outputs": [
    {
     "name": "stdout",
     "output_type": "stream",
     "text": [
      "<class 'pandas.core.frame.DataFrame'>\n",
      "Int64Index: 118 entries, 0 to 185\n",
      "Data columns (total 48 columns):\n",
      " #   Column                       Non-Null Count  Dtype  \n",
      "---  ------                       --------------  -----  \n",
      " 0   Age                          118 non-null    int64  \n",
      " 1   Growth                       118 non-null    int64  \n",
      " 2   Shoe size                    118 non-null    int64  \n",
      " 3   Course number                118 non-null    int64  \n",
      " 4   Year of birth                118 non-null    int64  \n",
      " 5   Friend number                118 non-null    int64  \n",
      " 6   Russian rating               118 non-null    int64  \n",
      " 7   Maths rating                 118 non-null    int64  \n",
      " 8   Physics rating               118 non-null    int64  \n",
      " 9   Computer science rating      118 non-null    int64  \n",
      " 10  Chemistry rating             118 non-null    int64  \n",
      " 11  Literature rating            118 non-null    int64  \n",
      " 12  History rating               118 non-null    int64  \n",
      " 13  Geography rating             118 non-null    int64  \n",
      " 14  Biology rating               118 non-null    int64  \n",
      " 15  Foreign language rating      118 non-null    int64  \n",
      " 16  Social science rating        118 non-null    int64  \n",
      " 17  Distance to home km          118 non-null    int64  \n",
      " 18  Minutes to first class       118 non-null    int64  \n",
      " 19  Children number              118 non-null    float64\n",
      " 20  Removed teeth                118 non-null    float64\n",
      " 21  Weight                       118 non-null    float64\n",
      " 22  Glasses                      118 non-null    object \n",
      " 23  Sex                          118 non-null    object \n",
      " 24  Problems in last semester    118 non-null    object \n",
      " 25  Coin                         118 non-null    object \n",
      " 26  Rock paper scissors          118 non-null    object \n",
      " 27  Animal                       118 non-null    object \n",
      " 28  Month of birthday            118 non-null    int64  \n",
      " 29  Your rating in university    118 non-null    object \n",
      " 30  Fastfood                     118 non-null    object \n",
      " 31  Height of 5000 mm            118 non-null    int64  \n",
      " 32  Width of 5000 mm             118 non-null    int64  \n",
      " 33  Putin age                    118 non-null    int64  \n",
      " 34  Army                         118 non-null    object \n",
      " 35  Hostel                       118 non-null    object \n",
      " 36  Hair length                  118 non-null    float64\n",
      " 37  Floor number                 118 non-null    int64  \n",
      " 38  Social network duration min  118 non-null    int64  \n",
      " 39  Chocolate                    118 non-null    object \n",
      " 40  City population              118 non-null    float64\n",
      " 41  Strange people               118 non-null    object \n",
      " 42  Your insitute                118 non-null    object \n",
      " 43  Brother-sister               118 non-null    object \n",
      " 44  Plane seat                   118 non-null    object \n",
      " 45  MIddle and index finger      118 non-null    int64  \n",
      " 46  Middle and ring finger       118 non-null    float64\n",
      " 47  Middle and little finger     118 non-null    float64\n",
      "dtypes: float64(7), int64(26), object(15)\n",
      "memory usage: 45.2+ KB\n"
     ]
    }
   ],
   "source": [
    "df1.info()"
   ]
  },
  {
   "cell_type": "code",
   "execution_count": 5,
   "id": "4db56da5",
   "metadata": {},
   "outputs": [
    {
     "data": {
      "text/plain": [
       "count    118.000000\n",
       "mean      65.016949\n",
       "std       17.874674\n",
       "min        3.000000\n",
       "25%       53.250000\n",
       "50%       62.000000\n",
       "75%       72.000000\n",
       "max      120.000000\n",
       "Name: Weight, dtype: float64"
      ]
     },
     "execution_count": 5,
     "metadata": {},
     "output_type": "execute_result"
    }
   ],
   "source": [
    "df1['Weight'].describe()"
   ]
  },
  {
   "cell_type": "markdown",
   "id": "243b18ed",
   "metadata": {},
   "source": [
    "# Заполнение у строк пустых значений \n",
    "## .fillna()\n",
    "## Пример использования: \n",
    "                                        .fillna(df['Class'].mean())"
   ]
  },
  {
   "cell_type": "code",
   "execution_count": 17,
   "id": "9dc1d3cc",
   "metadata": {},
   "outputs": [],
   "source": [
    "df3=df.fillna(df.mean(numeric_only=True))"
   ]
  },
  {
   "cell_type": "code",
   "execution_count": 18,
   "id": "e980537c",
   "metadata": {},
   "outputs": [
    {
     "data": {
      "text/plain": [
       "Weight    \n",
       "64.031847     29\n",
       "53.000000     10\n",
       "65.000000      9\n",
       "60.000000      9\n",
       "50.000000      7\n",
       "58.000000      7\n",
       "64.000000      6\n",
       "75.000000      6\n",
       "62.000000      6\n",
       "70.000000      6\n",
       "59.000000      6\n",
       "55.000000      6\n",
       "46.000000      5\n",
       "52.000000      5\n",
       "48.000000      4\n",
       "57.000000      3\n",
       "66.000000      3\n",
       "56.000000      3\n",
       "68.000000      3\n",
       "51.000000      3\n",
       "72.000000      3\n",
       "92.000000      3\n",
       "93.000000      2\n",
       "78.000000      2\n",
       "85.000000      2\n",
       "71.000000      2\n",
       "61.000000      2\n",
       "95.000000      2\n",
       "98.000000      2\n",
       "84.000000      2\n",
       "54.000000      2\n",
       "49.000000      2\n",
       "47.000000      2\n",
       "100.000000     2\n",
       "83.000000      2\n",
       "90.000000      1\n",
       "89.000000      1\n",
       "105.000000     1\n",
       "88.000000      1\n",
       "115.000000     1\n",
       "3.000000       1\n",
       "81.000000      1\n",
       "80.000000      1\n",
       "77.000000      1\n",
       "76.000000      1\n",
       "73.000000      1\n",
       "69.000000      1\n",
       "7.000000       1\n",
       "63.000000      1\n",
       "45.000000      1\n",
       "44.000000      1\n",
       "43.000000      1\n",
       "120.000000     1\n",
       "dtype: int64"
      ]
     },
     "execution_count": 18,
     "metadata": {},
     "output_type": "execute_result"
    }
   ],
   "source": [
    "df3[['Weight']].value_counts()"
   ]
  },
  {
   "cell_type": "markdown",
   "id": "db8906f4",
   "metadata": {},
   "source": [
    "# Сброс ограничений на количество информации выводимой на экран в таблице\n",
    "## pd.set_option()"
   ]
  },
  {
   "cell_type": "code",
   "execution_count": 8,
   "id": "c62a28cd",
   "metadata": {},
   "outputs": [],
   "source": [
    "# Сброс ограничений на количество выводимых рядов\n",
    "pd.set_option('display.max_rows', None)\n",
    " \n",
    "# Сброс ограничений на число столбцов\n",
    "pd.set_option('display.max_columns', None)\n",
    " \n",
    "# Сброс ограничений на количество символов в записи\n",
    "pd.set_option('display.max_colwidth', None)"
   ]
  },
  {
   "cell_type": "markdown",
   "id": "7670172f",
   "metadata": {},
   "source": [
    "# Примеры использования .fillna()"
   ]
  },
  {
   "cell_type": "code",
   "execution_count": 9,
   "id": "2f54e5ff",
   "metadata": {},
   "outputs": [],
   "source": [
    "df4=df[['Weight','Removed teeth','Children number','Glasses']]\n",
    "df4=df4.drop([115],axis=0)\n",
    "df4['Weight']=df['Weight'].fillna(df['Weight'].mean(numeric_only=True))\n",
    "df4['Removed teeth']=df['Removed teeth'].fillna(df['Removed teeth'].median(numeric_only=True))\n",
    "df4['Children number']=df['Children number'].fillna(df['Children number'].median(numeric_only=True).round())\n",
    "df4['Glasses']=df['Glasses'].fillna('да')"
   ]
  },
  {
   "cell_type": "code",
   "execution_count": 10,
   "id": "ec4baf78",
   "metadata": {},
   "outputs": [
    {
     "data": {
      "text/plain": [
       "нет                                    88\n",
       "да                                     87\n",
       "простите. не увидел(а) вопроса ))))    10\n",
       "Name: Glasses, dtype: int64"
      ]
     },
     "execution_count": 10,
     "metadata": {},
     "output_type": "execute_result"
    }
   ],
   "source": [
    "df4['Glasses'].value_counts()"
   ]
  },
  {
   "cell_type": "code",
   "execution_count": 11,
   "id": "1a74b8ed",
   "metadata": {
    "collapsed": true
   },
   "outputs": [
    {
     "name": "stdout",
     "output_type": "stream",
     "text": [
      "<class 'pandas.core.frame.DataFrame'>\n",
      "RangeIndex: 186 entries, 0 to 185\n",
      "Data columns (total 48 columns):\n",
      " #   Column                       Non-Null Count  Dtype  \n",
      "---  ------                       --------------  -----  \n",
      " 0   Age                          186 non-null    int64  \n",
      " 1   Growth                       186 non-null    int64  \n",
      " 2   Shoe size                    186 non-null    int64  \n",
      " 3   Course number                186 non-null    int64  \n",
      " 4   Year of birth                186 non-null    int64  \n",
      " 5   Friend number                186 non-null    int64  \n",
      " 6   Russian rating               186 non-null    int64  \n",
      " 7   Maths rating                 186 non-null    int64  \n",
      " 8   Physics rating               186 non-null    int64  \n",
      " 9   Computer science rating      186 non-null    int64  \n",
      " 10  Chemistry rating             186 non-null    int64  \n",
      " 11  Literature rating            186 non-null    int64  \n",
      " 12  History rating               186 non-null    int64  \n",
      " 13  Geography rating             186 non-null    int64  \n",
      " 14  Biology rating               186 non-null    int64  \n",
      " 15  Foreign language rating      186 non-null    int64  \n",
      " 16  Social science rating        186 non-null    int64  \n",
      " 17  Distance to home km          186 non-null    int64  \n",
      " 18  Minutes to first class       186 non-null    int64  \n",
      " 19  Children number              150 non-null    float64\n",
      " 20  Removed teeth                148 non-null    float64\n",
      " 21  Weight                       157 non-null    float64\n",
      " 22  Glasses                      184 non-null    object \n",
      " 23  Sex                          186 non-null    object \n",
      " 24  Problems in last semester    186 non-null    object \n",
      " 25  Coin                         186 non-null    object \n",
      " 26  Rock paper scissors          186 non-null    object \n",
      " 27  Animal                       186 non-null    object \n",
      " 28  Month of birthday            186 non-null    int64  \n",
      " 29  Your rating in university    186 non-null    object \n",
      " 30  Fastfood                     186 non-null    object \n",
      " 31  Height of 5000 mm            186 non-null    int64  \n",
      " 32  Width of 5000 mm             186 non-null    int64  \n",
      " 33  Putin age                    186 non-null    int64  \n",
      " 34  Army                         186 non-null    object \n",
      " 35  Hostel                       186 non-null    object \n",
      " 36  Hair length                  186 non-null    float64\n",
      " 37  Floor number                 186 non-null    int64  \n",
      " 38  Social network duration min  186 non-null    int64  \n",
      " 39  Chocolate                    186 non-null    object \n",
      " 40  City population              186 non-null    float64\n",
      " 41  Strange people               186 non-null    object \n",
      " 42  Your insitute                186 non-null    object \n",
      " 43  Brother-sister               186 non-null    object \n",
      " 44  Plane seat                   186 non-null    object \n",
      " 45  MIddle and index finger      186 non-null    int64  \n",
      " 46  Middle and ring finger       186 non-null    float64\n",
      " 47  Middle and little finger     186 non-null    float64\n",
      "dtypes: float64(7), int64(26), object(15)\n",
      "memory usage: 69.9+ KB\n"
     ]
    }
   ],
   "source": [
    "df.info()"
   ]
  },
  {
   "cell_type": "markdown",
   "id": "83e02e35",
   "metadata": {},
   "source": [
    "### Задание 1\n",
    "Будем заполнять пропуски в признаке \"Вес\". Но не просто так. Разобьем нашу таблицу на две таблицы:\n",
    "\n",
    "females=(все женщины из исходной таблицы)\n",
    "\n",
    "males=(все мужчины из исходной таблицы)\n",
    "\n",
    "Далее в таблице females заполните пропуски в столбце \"Вес\", записав туда средний вес женщин. В таблице males заполните пропуски в столбце \"Вес\", записав туда средний вес мужчин.\n",
    "\n",
    "Далее объедините таблицы males и females в одну, запустив код:\n",
    "\n",
    "df_new=males.append(females)\n",
    "\n",
    "Далее в таблице df_new подсчитайте средний вес людей. Запишите его в окошко ответа."
   ]
  },
  {
   "cell_type": "code",
   "execution_count": 12,
   "id": "72aff575",
   "metadata": {
    "collapsed": true
   },
   "outputs": [
    {
     "data": {
      "text/plain": [
       "<bound method IndexOpsMixin.value_counts of 0      женский\n",
       "1      мужской\n",
       "2      мужской\n",
       "3      женский\n",
       "4      женский\n",
       "5      мужской\n",
       "6      мужской\n",
       "7      мужской\n",
       "8      мужской\n",
       "9      женский\n",
       "10     женский\n",
       "11     мужской\n",
       "12     женский\n",
       "13     женский\n",
       "14     мужской\n",
       "15     женский\n",
       "16     мужской\n",
       "17     мужской\n",
       "18     женский\n",
       "19     женский\n",
       "20     мужской\n",
       "21     женский\n",
       "22     женский\n",
       "23     мужской\n",
       "24     мужской\n",
       "25     женский\n",
       "26     женский\n",
       "27     мужской\n",
       "28     женский\n",
       "29     женский\n",
       "30     мужской\n",
       "31     женский\n",
       "32     женский\n",
       "33     мужской\n",
       "34     женский\n",
       "35     мужской\n",
       "36     мужской\n",
       "37     женский\n",
       "38     женский\n",
       "39     мужской\n",
       "40     женский\n",
       "41     женский\n",
       "42     женский\n",
       "43     женский\n",
       "44     мужской\n",
       "45     мужской\n",
       "46     мужской\n",
       "47     женский\n",
       "48     мужской\n",
       "49     женский\n",
       "50     мужской\n",
       "51     женский\n",
       "52     женский\n",
       "53     женский\n",
       "54     женский\n",
       "55     мужской\n",
       "56     женский\n",
       "57     мужской\n",
       "58     женский\n",
       "59     мужской\n",
       "60     женский\n",
       "61     мужской\n",
       "62     мужской\n",
       "63     женский\n",
       "64     мужской\n",
       "65     женский\n",
       "66     мужской\n",
       "67     мужской\n",
       "68     женский\n",
       "69     мужской\n",
       "70     женский\n",
       "71     женский\n",
       "72     женский\n",
       "73     мужской\n",
       "74     женский\n",
       "75     мужской\n",
       "76     мужской\n",
       "77     женский\n",
       "78     мужской\n",
       "79     женский\n",
       "80     женский\n",
       "81     женский\n",
       "82     женский\n",
       "83     мужской\n",
       "84     мужской\n",
       "85     женский\n",
       "86     женский\n",
       "87     мужской\n",
       "88     женский\n",
       "89     женский\n",
       "90     женский\n",
       "91     женский\n",
       "92     мужской\n",
       "93     мужской\n",
       "94     женский\n",
       "95     женский\n",
       "96     женский\n",
       "97     женский\n",
       "98     женский\n",
       "99     женский\n",
       "100    женский\n",
       "101    женский\n",
       "102    женский\n",
       "103    мужской\n",
       "104    мужской\n",
       "105    мужской\n",
       "106    мужской\n",
       "107    мужской\n",
       "108    женский\n",
       "109    женский\n",
       "110    женский\n",
       "111    женский\n",
       "112    мужской\n",
       "113    мужской\n",
       "114    мужской\n",
       "115    мужской\n",
       "116    мужской\n",
       "117    женский\n",
       "118    женский\n",
       "119    женский\n",
       "120    мужской\n",
       "121    женский\n",
       "122    мужской\n",
       "123    женский\n",
       "124    женский\n",
       "125    мужской\n",
       "126    женский\n",
       "127    женский\n",
       "128    мужской\n",
       "129    женский\n",
       "130    мужской\n",
       "131    женский\n",
       "132    женский\n",
       "133    мужской\n",
       "134    женский\n",
       "135    женский\n",
       "136    женский\n",
       "137    женский\n",
       "138    женский\n",
       "139    женский\n",
       "140    мужской\n",
       "141    женский\n",
       "142    женский\n",
       "143    женский\n",
       "144    женский\n",
       "145    мужской\n",
       "146    женский\n",
       "147    женский\n",
       "148    женский\n",
       "149    женский\n",
       "150    женский\n",
       "151    мужской\n",
       "152    женский\n",
       "153    мужской\n",
       "154    женский\n",
       "155    мужской\n",
       "156    женский\n",
       "157    мужской\n",
       "158    женский\n",
       "159    женский\n",
       "160    мужской\n",
       "161    женский\n",
       "162    женский\n",
       "163    женский\n",
       "164    женский\n",
       "165    женский\n",
       "166    женский\n",
       "167    женский\n",
       "168    женский\n",
       "169    женский\n",
       "170    женский\n",
       "171    женский\n",
       "172    женский\n",
       "173    женский\n",
       "174    женский\n",
       "175    женский\n",
       "176    женский\n",
       "177    женский\n",
       "178    женский\n",
       "179    мужской\n",
       "180    женский\n",
       "181    женский\n",
       "182    женский\n",
       "183    женский\n",
       "184    женский\n",
       "185    женский\n",
       "Name: Sex, dtype: object>"
      ]
     },
     "execution_count": 12,
     "metadata": {},
     "output_type": "execute_result"
    }
   ],
   "source": [
    "df['Sex'].value_counts"
   ]
  },
  {
   "cell_type": "code",
   "execution_count": 13,
   "id": "ef7a9ad0",
   "metadata": {},
   "outputs": [
    {
     "name": "stdout",
     "output_type": "stream",
     "text": [
      "71.58064516129032\n",
      "59.10526315789475\n",
      "63.53201161071252\n"
     ]
    }
   ],
   "source": [
    "# Создаем две таблицы\n",
    "df_females=df[df['Sex']=='женский']\n",
    "df_males=df[df['Sex']=='мужской']\n",
    "# Заполняем пустые значения средними значениями веса\n",
    "df_females['Weight']=df_females['Weight'].fillna(df_females['Weight'].mean())\n",
    "df_males['Weight']=df_males['Weight'].fillna(df_males['Weight'].mean())\n",
    "# конкатенируем две таблицы в одну\n",
    "df_new=pd.concat([df_males, df_females])\n",
    "# выводим результат на экран\n",
    "print(df_males['Weight'].mean())\n",
    "print(df_females['Weight'].mean())\n",
    "print(df_new['Weight'].mean())"
   ]
  },
  {
   "cell_type": "markdown",
   "id": "6e92a7b2",
   "metadata": {},
   "source": [
    "## Задание 2\n",
    "Будем заполнять пропуски в признаке \"Желаемое число детей\" (\"Children number\"). Но не просто так. Разобьем нашу таблицу на две таблицы:\n",
    "\n",
    "singles=(все, у кого нет ни брата ни сестры)\n",
    "\n",
    "sublings=(все, кто не попал в таблицу singles) Спойлер: для создания таблицы sublings проще вызвать код\n",
    "\n",
    "sublings=df[df['Brother-sister']!='нет ни брата ни сестры']\n",
    "\n",
    "(оператор != означает \"не равно\")\n",
    "\n",
    " \n",
    "\n",
    "Вызовете код \n",
    "\n",
    "singles['Children number'].median()\n",
    "\n",
    "а потом \n",
    "\n",
    "sublings['Children number'].median()\n",
    "\n",
    "и вы поймете как наличие брата/сестhы влияет на желаемой количество детей )))))))\n",
    "\n",
    " \n",
    "\n",
    "Далее в таблице singles заполните пропуски в столбце \"Children number\", записав туда медианное значение по этой таблице. Аналогично поступите с таблицей sublings. \n",
    "\n",
    " \n",
    "\n",
    "Далее объедините таблицы singles и sublings в одну, запустив код:\n",
    "\n",
    "df_new=singles .append(sublings )\n",
    "\n",
    "Далее в таблице df_new подсчитайте медиану признака \"Children number\". Запишите его в окошко ответа."
   ]
  },
  {
   "cell_type": "code",
   "execution_count": 14,
   "id": "f8be61eb",
   "metadata": {},
   "outputs": [
    {
     "name": "stdout",
     "output_type": "stream",
     "text": [
      "1.0\n",
      "2.0\n",
      "2.0\n"
     ]
    }
   ],
   "source": [
    "# создадим таблицу людей у которых \"нет ни брата ни сестры\"\n",
    "\n",
    "df_singles=df[df['Brother-sister']=='нет ни брата ни сестры']\n",
    "\n",
    "# создадим таблицу людей для которых \"нет ни брата ни сестры\" ложь\n",
    "\n",
    "df_sublings=df[df['Brother-sister']!='нет ни брата ни сестры']\n",
    "\n",
    "# Вызываем код \n",
    "\n",
    "print(df_singles['Children number'].median())\n",
    "\n",
    "# а потом \n",
    "\n",
    "print(df_sublings['Children number'].median())\n",
    "\n",
    "df_singles['Children number']=df_singles['Children number'].fillna(df_singles['Children number'].median())\n",
    "df_sublings['Children number']=df_sublings['Children number'].fillna(df_sublings['Children number'].median())\n",
    "\n",
    "df_new2=pd.concat([df_singles,df_sublings])\n",
    "\n",
    "print(df_new2['Children number'].median())"
   ]
  },
  {
   "cell_type": "code",
   "execution_count": 1,
   "id": "fcdfb8f7",
   "metadata": {},
   "outputs": [],
   "source": [
    "from sklearn.cluster import KMeans"
   ]
  },
  {
   "cell_type": "code",
   "execution_count": null,
   "id": "b337cb22",
   "metadata": {},
   "outputs": [],
   "source": [
    "KMeans."
   ]
  }
 ],
 "metadata": {
  "kernelspec": {
   "display_name": "Python 3 (ipykernel)",
   "language": "python",
   "name": "python3"
  },
  "language_info": {
   "codemirror_mode": {
    "name": "ipython",
    "version": 3
   },
   "file_extension": ".py",
   "mimetype": "text/x-python",
   "name": "python",
   "nbconvert_exporter": "python",
   "pygments_lexer": "ipython3",
   "version": "3.10.8"
  },
  "toc": {
   "base_numbering": 1,
   "nav_menu": {},
   "number_sections": true,
   "sideBar": true,
   "skip_h1_title": false,
   "title_cell": "Table of Contents",
   "title_sidebar": "Contents",
   "toc_cell": false,
   "toc_position": {},
   "toc_section_display": true,
   "toc_window_display": false
  }
 },
 "nbformat": 4,
 "nbformat_minor": 5
}
